{
 "cells": [
  {
   "cell_type": "markdown",
   "id": "76c62279-5113-40e8-832f-3835ac3329de",
   "metadata": {},
   "source": [
    "# YouTube"
   ]
  },
  {
   "cell_type": "code",
   "execution_count": 1,
   "id": "fdf6e386-9b1e-4f8e-bca9-9c1446209a05",
   "metadata": {},
   "outputs": [],
   "source": [
    "import youtube_dl\n",
    "from youtube_dl.utils import DownloadError\n",
    "\n",
    "ydl = youtube_dl.YoutubeDL()"
   ]
  },
  {
   "cell_type": "code",
   "execution_count": 2,
   "id": "6b5ae74d-eece-46c4-a975-0e8a9357e8f5",
   "metadata": {},
   "outputs": [
    {
     "name": "stdout",
     "output_type": "stream",
     "text": [
      "[youtube] V0u6bxQOUJ8: Downloading webpage\n"
     ]
    }
   ],
   "source": [
    "url = \"https://www.youtube.com/watch?v=V0u6bxQOUJ8&ab_channel=NextDayVideo\"\n",
    "result = ydl.extract_info(url,download=False)"
   ]
  },
  {
   "cell_type": "code",
   "execution_count": 3,
   "id": "5edd1b54-2b2f-454a-8d81-71f7fcc4bd2b",
   "metadata": {},
   "outputs": [
    {
     "data": {
      "text/plain": [
       "dict_keys(['id', 'title', 'formats', 'thumbnails', 'description', 'upload_date', 'uploader', 'uploader_id', 'uploader_url', 'channel_id', 'channel_url', 'duration', 'view_count', 'average_rating', 'age_limit', 'webpage_url', 'categories', 'tags', 'is_live', 'automatic_captions', 'subtitles', 'like_count', 'channel', 'extractor', 'webpage_url_basename', 'extractor_key', 'playlist', 'playlist_index', 'thumbnail', 'display_id', 'requested_subtitles', 'requested_formats', 'format', 'format_id', 'width', 'height', 'resolution', 'fps', 'vcodec', 'vbr', 'stretched_ratio', 'acodec', 'abr', 'ext'])"
      ]
     },
     "execution_count": 3,
     "metadata": {},
     "output_type": "execute_result"
    }
   ],
   "source": [
    "result.keys()"
   ]
  },
  {
   "cell_type": "code",
   "execution_count": 33,
   "id": "076117fc-0b7e-488d-bd75-65da1dcf5353",
   "metadata": {},
   "outputs": [
    {
     "data": {
      "text/plain": [
       "'Next Day Video'"
      ]
     },
     "execution_count": 33,
     "metadata": {},
     "output_type": "execute_result"
    }
   ],
   "source": [
    "result['uploader']"
   ]
  },
  {
   "cell_type": "code",
   "execution_count": null,
   "id": "37e80aa5-bfaf-46f7-ac00-590f21b95dc1",
   "metadata": {},
   "outputs": [
    {
     "data": {
      "text/plain": [
       "'Next Day Video'"
      ]
     },
     "execution_count": 41,
     "metadata": {},
     "output_type": "execute_result"
    }
   ],
   "source": [
    "result['channe']"
   ]
  },
  {
   "cell_type": "code",
   "execution_count": 34,
   "id": "1523a5be-7f53-41a8-829d-7a00c0b9f6d1",
   "metadata": {},
   "outputs": [
    {
     "data": {
      "text/plain": [
       "'https://www.youtube.com/channel/UCQ7dFBzZGlBvtU2hCecsBBg'"
      ]
     },
     "execution_count": 34,
     "metadata": {},
     "output_type": "execute_result"
    }
   ],
   "source": [
    "result['channel_url']"
   ]
  },
  {
   "cell_type": "code",
   "execution_count": 4,
   "id": "babfaa18-febc-4cb1-93f0-23949bd3f92b",
   "metadata": {},
   "outputs": [
    {
     "data": {
      "text/plain": [
       "35.6"
      ]
     },
     "execution_count": 4,
     "metadata": {},
     "output_type": "execute_result"
    }
   ],
   "source": [
    "result['duration'] / 60"
   ]
  },
  {
   "cell_type": "code",
   "execution_count": 5,
   "id": "0db7fcc1-5329-443b-bd43-046939090818",
   "metadata": {},
   "outputs": [
    {
     "data": {
      "text/plain": [
       "154436"
      ]
     },
     "execution_count": 5,
     "metadata": {},
     "output_type": "execute_result"
    }
   ],
   "source": [
    "result['view_count']"
   ]
  },
  {
   "cell_type": "code",
   "execution_count": 6,
   "id": "cb719d4a-498e-46eb-8ef9-6e617172b1e6",
   "metadata": {},
   "outputs": [
    {
     "data": {
      "text/plain": [
       "['People & Blogs']"
      ]
     },
     "execution_count": 6,
     "metadata": {},
     "output_type": "execute_result"
    }
   ],
   "source": [
    "result[\"categories\"]"
   ]
  },
  {
   "cell_type": "code",
   "execution_count": 7,
   "id": "5ade28ca-bf18-4f07-96c0-6287220cd0a4",
   "metadata": {},
   "outputs": [
    {
     "data": {
      "text/plain": [
       "['depy', 'depy_2016', 'AprilChen']"
      ]
     },
     "execution_count": 7,
     "metadata": {},
     "output_type": "execute_result"
    }
   ],
   "source": [
    "result['tags']"
   ]
  },
  {
   "cell_type": "code",
   "execution_count": 10,
   "id": "d1309649-117b-487e-a623-9de0cf39b71b",
   "metadata": {},
   "outputs": [
    {
     "data": {
      "text/plain": [
       "11"
      ]
     },
     "execution_count": 10,
     "metadata": {},
     "output_type": "execute_result"
    }
   ],
   "source": [
    "result['description'].strip().find('http')"
   ]
  },
  {
   "cell_type": "code",
   "execution_count": 11,
   "id": "b10fd049-005e-48c6-a68a-e28f4c6ef859",
   "metadata": {},
   "outputs": [
    {
     "data": {
      "text/plain": [
       "'April Chen\\nhttp://mdp.cdm.depaul.edu/DePy2016/default/schedule\\nData preprocessing and feature exploration are crucial steps in a modeling workflow. In this tutorial, I will demonstrate how to use Python libraries such as scikit-learn, statsmodels, and matplotlib to perform pre-modeling steps. Topics that will be covered include: missing values, variable types, outlier detection, multicollinearity, interaction terms, and visualizing variable distributions. Finally, I will show the impact of utilizing these techniques on model performance. Interactive Jupyter notebooks will be provided.'"
      ]
     },
     "execution_count": 11,
     "metadata": {},
     "output_type": "execute_result"
    }
   ],
   "source": [
    "result['description']"
   ]
  },
  {
   "cell_type": "code",
   "execution_count": 19,
   "id": "907a26f9-d702-49b5-acb8-871bd5ba9032",
   "metadata": {},
   "outputs": [
    {
     "name": "stdout",
     "output_type": "stream",
     "text": [
      "http://example.com/blah\n"
     ]
    }
   ],
   "source": [
    "import re\n",
    "\n",
    "myString = \"This is my tweet check it out http://example.com/blah\\n\"\n",
    "\n",
    "print(re.search(\"(?P<url>https?://[^\\s]+)\", myString).group(\"url\"))"
   ]
  },
  {
   "cell_type": "code",
   "execution_count": 17,
   "id": "6cbeb5b1-9caf-42ee-9662-92bb67f99ff0",
   "metadata": {},
   "outputs": [
    {
     "name": "stdout",
     "output_type": "stream",
     "text": [
      "http://mdp.cdm.depaul.edu/DePy2016/default/schedule\n"
     ]
    }
   ],
   "source": [
    "print(re.search(\"(?P<url>https?://[^\\s]+)\", result['description']).group(\"url\"))"
   ]
  },
  {
   "cell_type": "code",
   "execution_count": 56,
   "id": "d201a91b-409c-4b79-b744-2bbf8eb44368",
   "metadata": {},
   "outputs": [],
   "source": [
    "infos = ['id', 'title', 'channel', 'view_count', 'like_count',\n",
    "         'duration', 'categories', 'tags', 'description', 'description_url']"
   ]
  },
  {
   "cell_type": "code",
   "execution_count": 57,
   "id": "12ff8fda-cabc-4b2e-9e15-5a41d344a586",
   "metadata": {},
   "outputs": [
    {
     "data": {
      "text/plain": [
       "{'categories',\n",
       " 'channel',\n",
       " 'description',\n",
       " 'description_url',\n",
       " 'duration',\n",
       " 'like_count',\n",
       " 'tags',\n",
       " 'title',\n",
       " 'video_id',\n",
       " 'view_count'}"
      ]
     },
     "execution_count": 57,
     "metadata": {},
     "output_type": "execute_result"
    }
   ],
   "source": [
    "# [x+1 if x >= 45 else x+5 for x in l]\n",
    "{key if key != 'id' else 'video_id' for key in infos}"
   ]
  },
  {
   "cell_type": "code",
   "execution_count": 65,
   "id": "f9cb4ae6-e695-4618-92bf-259025afce04",
   "metadata": {},
   "outputs": [],
   "source": [
    "def get_info(url):\n",
    "    with ydl:\n",
    "        try:\n",
    "            result = ydl.extract_info(\n",
    "                url,\n",
    "                download=False\n",
    "            )\n",
    "        except DownloadError:\n",
    "            return None\n",
    "        \n",
    "    # check if the video inside a playlist\n",
    "    if \"entries\" in result:\n",
    "        video = result[\"entries\"][0]\n",
    "    else:\n",
    "        video = result\n",
    "        \n",
    "    infos = ['id', 'title', 'channel', 'view_count', 'like_count','duration',\n",
    "             'categories', 'tags', 'description']\n",
    "\n",
    "    def key_name(key):\n",
    "        if key == \"id\":\n",
    "            return \"video_id\"\n",
    "        return key\n",
    "\n",
    "    \n",
    "    return {key_name(key): video[key] for key in infos}"
   ]
  },
  {
   "cell_type": "code",
   "execution_count": 66,
   "id": "87304924-a9b7-411a-8d54-02adf0ffd493",
   "metadata": {},
   "outputs": [
    {
     "name": "stdout",
     "output_type": "stream",
     "text": [
      "[youtube] V0u6bxQOUJ8: Downloading webpage\n"
     ]
    },
    {
     "data": {
      "text/plain": [
       "{'video_id': 'V0u6bxQOUJ8',\n",
       " 'title': 'Pre-Modeling: Data Preprocessing and Feature Exploration in Python',\n",
       " 'channel': 'Next Day Video',\n",
       " 'view_count': 154441,\n",
       " 'like_count': 2579,\n",
       " 'duration': 2136,\n",
       " 'categories': ['People & Blogs'],\n",
       " 'tags': ['depy', 'depy_2016', 'AprilChen'],\n",
       " 'description': 'April Chen\\nhttp://mdp.cdm.depaul.edu/DePy2016/default/schedule\\nData preprocessing and feature exploration are crucial steps in a modeling workflow. In this tutorial, I will demonstrate how to use Python libraries such as scikit-learn, statsmodels, and matplotlib to perform pre-modeling steps. Topics that will be covered include: missing values, variable types, outlier detection, multicollinearity, interaction terms, and visualizing variable distributions. Finally, I will show the impact of utilizing these techniques on model performance. Interactive Jupyter notebooks will be provided.'}"
      ]
     },
     "execution_count": 66,
     "metadata": {},
     "output_type": "execute_result"
    }
   ],
   "source": [
    "get_info(url)"
   ]
  },
  {
   "cell_type": "markdown",
   "id": "a47e11bf-07b3-4b88-bbaa-83cf7c137759",
   "metadata": {},
   "source": [
    "# App"
   ]
  },
  {
   "cell_type": "code",
   "execution_count": 12,
   "id": "3bd01e94-12ad-4ae4-8fd7-206ecc4ab92a",
   "metadata": {},
   "outputs": [],
   "source": [
    "import warnings\n",
    "warnings.filterwarnings(\"ignore\", category=FutureWarning)"
   ]
  },
  {
   "cell_type": "code",
   "execution_count": 1,
   "id": "9b771472-7ad2-4882-85bd-1da1852642ec",
   "metadata": {},
   "outputs": [
    {
     "name": "stderr",
     "output_type": "stream",
     "text": [
      "2022-06-14 18:31:10.833 INFO    numexpr.utils: NumExpr defaulting to 8 threads.\n"
     ]
    }
   ],
   "source": [
    "import streamlit as st"
   ]
  },
  {
   "cell_type": "code",
   "execution_count": 13,
   "id": "7aaffba1-1a13-4e3b-a500-3150a5820cd0",
   "metadata": {},
   "outputs": [
    {
     "data": {
      "text/plain": [
       "DeltaGenerator(_root_container=0, _provided_cursor=None, _parent=None, _block_type=None, _form_data=None)"
      ]
     },
     "execution_count": 13,
     "metadata": {},
     "output_type": "execute_result"
    }
   ],
   "source": [
    "st.title('Workout APP')"
   ]
  },
  {
   "cell_type": "code",
   "execution_count": null,
   "id": "73fcea1a-ada3-40e5-840f-3b41e84766f0",
   "metadata": {},
   "outputs": [],
   "source": []
  },
  {
   "cell_type": "code",
   "execution_count": null,
   "id": "d988a9f7-83b4-4c2f-a153-84f856bb915f",
   "metadata": {},
   "outputs": [],
   "source": []
  },
  {
   "cell_type": "markdown",
   "id": "f796794a-76c1-4cce-bd63-3b53dc54735e",
   "metadata": {},
   "source": [
    "\n",
    "# Database"
   ]
  },
  {
   "cell_type": "code",
   "execution_count": 24,
   "id": "140d2dad-6bb6-45e8-b329-9a76269c6335",
   "metadata": {},
   "outputs": [
    {
     "name": "stdout",
     "output_type": "stream",
     "text": [
      "Collecting harperdb\n",
      "  Downloading harperdb-0.4.2-py3-none-any.whl (13 kB)\n",
      "Requirement already satisfied: requests~=2.0 in c:\\users\\mahmo\\anaconda3\\lib\\site-packages (from harperdb) (2.27.1)\n",
      "Requirement already satisfied: certifi>=2017.4.17 in c:\\users\\mahmo\\anaconda3\\lib\\site-packages (from requests~=2.0->harperdb) (2022.6.15)\n",
      "Requirement already satisfied: urllib3<1.27,>=1.21.1 in c:\\users\\mahmo\\anaconda3\\lib\\site-packages (from requests~=2.0->harperdb) (1.26.9)\n",
      "Requirement already satisfied: charset-normalizer~=2.0.0 in c:\\users\\mahmo\\anaconda3\\lib\\site-packages (from requests~=2.0->harperdb) (2.0.4)\n",
      "Requirement already satisfied: idna<4,>=2.5 in c:\\users\\mahmo\\anaconda3\\lib\\site-packages (from requests~=2.0->harperdb) (3.3)\n",
      "Installing collected packages: harperdb\n",
      "Successfully installed harperdb-0.4.2\n"
     ]
    },
    {
     "name": "stderr",
     "output_type": "stream",
     "text": [
      "WARNING: You are using pip version 21.3.1; however, version 22.1.2 is available.\n",
      "You should consider upgrading via the 'C:\\Users\\mahmo\\anaconda3\\python.exe -m pip install --upgrade pip' command.\n"
     ]
    }
   ],
   "source": [
    "!pip install harperdb"
   ]
  },
  {
   "cell_type": "code",
   "execution_count": 25,
   "id": "19d6fba7-3345-4165-96a5-e5b546558c7d",
   "metadata": {},
   "outputs": [],
   "source": [
    "import harperdb"
   ]
  },
  {
   "cell_type": "code",
   "execution_count": 26,
   "id": "1e54ad4b-1b87-486e-afff-20fb2cd3032a",
   "metadata": {},
   "outputs": [],
   "source": [
    "db = harperdb.HarperDB(\n",
    "    url = \"https://cloud-1-jrreda.harperdbcloud.com\",\n",
    "    username = 'jrreda',\n",
    "    password = 'nu#qLZA3EvrTe'\n",
    ")"
   ]
  },
  {
   "cell_type": "code",
   "execution_count": 27,
   "id": "fc1d792a-a752-4f6e-85f9-5e7d7fbc3585",
   "metadata": {},
   "outputs": [
    {
     "data": {
      "text/plain": [
       "{'watch_later_repo': {'watch_laters': {'__createdtime__': 1655473552212,\n",
       "   '__updatedtime__': 1655473552212,\n",
       "   'hash_attribute': 'video_id',\n",
       "   'id': '7dd954a8-e075-4774-80d2-a715b79f716f',\n",
       "   'name': 'watch_laters',\n",
       "   'residence': None,\n",
       "   'schema': 'watch_later_repo',\n",
       "   'attributes': [{'attribute': '__updatedtime__'},\n",
       "    {'attribute': 'video_id'},\n",
       "    {'attribute': '__createdtime__'}],\n",
       "   'record_count': 0}}}"
      ]
     },
     "execution_count": 27,
     "metadata": {},
     "output_type": "execute_result"
    }
   ],
   "source": [
    "db.describe_all()"
   ]
  },
  {
   "cell_type": "code",
   "execution_count": 54,
   "id": "7609ddeb-11aa-40a6-adc5-59cd0ba89421",
   "metadata": {},
   "outputs": [],
   "source": [
    "SCHEMA = 'watch_later_repo'\n",
    "TABLE = 'todo_s'\n",
    "TODAY_TABLE = 'todays_video'"
   ]
  },
  {
   "cell_type": "code",
   "execution_count": 29,
   "id": "8b44440a-fc2a-42b2-8635-10bf5c249d0f",
   "metadata": {},
   "outputs": [],
   "source": [
    "data = {\n",
    "    'video_id': '123',\n",
    "    'title': 'test123'  # wasn't created\n",
    "}"
   ]
  },
  {
   "cell_type": "code",
   "execution_count": 30,
   "id": "85b32c5f-7f94-4d01-b960-0a668bf58611",
   "metadata": {},
   "outputs": [
    {
     "data": {
      "text/plain": [
       "{'message': 'inserted 1 of 1 records',\n",
       " 'inserted_hashes': [123],\n",
       " 'skipped_hashes': []}"
      ]
     },
     "execution_count": 30,
     "metadata": {},
     "output_type": "execute_result"
    }
   ],
   "source": [
    "db.insert(SCHEMA, TABLE, [data])"
   ]
  },
  {
   "cell_type": "code",
   "execution_count": 37,
   "id": "f67cb787-2cf9-44f0-a504-8d4fe199902a",
   "metadata": {},
   "outputs": [],
   "source": [
    "data = {\n",
    "    'video_id': '0100',\n",
    "    'uploader': result['uploader'],\n",
    "    'title': result['title'],\n",
    "    'duration': result['duration'] / 60,\n",
    "    'views': result['view_count'],\n",
    "    'categories': result[\"categories\"],\n",
    "    'tags': result['tags'],\n",
    "    'description': result['description'],\n",
    "    'description_url': re.search(\"(?P<url>https?://[^\\s]+)\", result['description']).group(\"url\")\n",
    "}"
   ]
  },
  {
   "cell_type": "code",
   "execution_count": 38,
   "id": "e56d607d-7d7b-4f91-85fc-996b5faef7a9",
   "metadata": {},
   "outputs": [
    {
     "data": {
      "text/plain": [
       "{'message': 'inserted 1 of 1 records',\n",
       " 'inserted_hashes': ['0100'],\n",
       " 'skipped_hashes': []}"
      ]
     },
     "execution_count": 38,
     "metadata": {},
     "output_type": "execute_result"
    }
   ],
   "source": [
    "db.insert(SCHEMA, TABLE, [data])"
   ]
  },
  {
   "cell_type": "code",
   "execution_count": 53,
   "id": "4ce02478-fbf0-41e6-a1b6-54960a84ec2d",
   "metadata": {},
   "outputs": [
    {
     "data": {
      "text/plain": [
       "{'message': \"successfully deleted table 'watch_later_repo.today_video'\"}"
      ]
     },
     "execution_count": 53,
     "metadata": {},
     "output_type": "execute_result"
    }
   ],
   "source": [
    "db.drop_table(SCHEMA, TABLE)"
   ]
  },
  {
   "cell_type": "code",
   "execution_count": 50,
   "id": "8e7b01fb-3b1b-474a-9f23-b2e9baddd13a",
   "metadata": {},
   "outputs": [
    {
     "data": {
      "text/plain": [
       "{'message': \"table 'watch_later_repo.todo_s' successfully created.\"}"
      ]
     },
     "execution_count": 50,
     "metadata": {},
     "output_type": "execute_result"
    }
   ],
   "source": [
    "db.create_table(SCHEMA, TABLE, 'video_id')"
   ]
  },
  {
   "cell_type": "code",
   "execution_count": 55,
   "id": "021d45ff-1d37-4c1a-9def-20f51a99ef15",
   "metadata": {},
   "outputs": [
    {
     "data": {
      "text/plain": [
       "{'message': \"table 'watch_later_repo.todays_video' successfully created.\"}"
      ]
     },
     "execution_count": 55,
     "metadata": {},
     "output_type": "execute_result"
    }
   ],
   "source": [
    "db.create_table(SCHEMA, TODAY_TABLE, 'id')"
   ]
  },
  {
   "cell_type": "code",
   "execution_count": null,
   "id": "9bdc2962-0c57-41d6-a1d3-d18987a62479",
   "metadata": {},
   "outputs": [],
   "source": []
  }
 ],
 "metadata": {
  "kernelspec": {
   "display_name": "Python 3 (ipykernel)",
   "language": "python",
   "name": "python3"
  },
  "language_info": {
   "codemirror_mode": {
    "name": "ipython",
    "version": 3
   },
   "file_extension": ".py",
   "mimetype": "text/x-python",
   "name": "python",
   "nbconvert_exporter": "python",
   "pygments_lexer": "ipython3",
   "version": "3.8.13"
  },
  "widgets": {
   "application/vnd.jupyter.widget-state+json": {
    "state": {},
    "version_major": 2,
    "version_minor": 0
   }
  }
 },
 "nbformat": 4,
 "nbformat_minor": 5
}
