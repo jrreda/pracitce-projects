{
 "cells": [
  {
   "cell_type": "markdown",
   "id": "e76d6257-3927-4fef-afbc-296f7cb581be",
   "metadata": {},
   "source": [
    "The structure of CDN or external links can vary depending on the specific resource being loaded. However, here are a few common structures you may encounter:\n",
    "\n",
    "1. CSS or JavaScript files:\n",
    "   - Relative path: `<link href=\"/path/to/file.css\" rel=\"stylesheet\">`\n",
    "   - Absolute path: `<link href=\"https://cdn.example.com/file.css\" rel=\"stylesheet\">`\n",
    "\n",
    "2. Image files:\n",
    "   - Relative path: `<img src=\"/path/to/image.jpg\" alt=\"Image\">`\n",
    "   - Absolute path: `<img src=\"https://cdn.example.com/image.jpg\" alt=\"Image\">`\n",
    "\n",
    "3. Font files:\n",
    "   - Relative path: `@font-face { font-family: 'Font'; src: url('/path/to/font.woff2') format('woff2'); }`\n",
    "   - Absolute path: `@font-face { font-family: 'Font'; src: url('https://cdn.example.com/font.woff2') format('woff2'); }`\n",
    "\n",
    "4. External libraries or frameworks:\n",
    "   - Script tag: `<script src=\"https://cdn.example.com/library.js\"></script>`\n",
    "   - Link tag (stylesheet): `<link href=\"https://cdn.example.com/framework.css\" rel=\"stylesheet\">`\n",
    "\n",
    "These examples illustrate the general structure of CDN or external links. However, please note that the actual structure can vary based on the specific CDN or external resource you are referencing. It's always important to refer to the documentation or specific resource provider for accurate information on how to include their resources in your project."
   ]
  },
  {
   "cell_type": "code",
   "execution_count": 39,
   "id": "3ed4320a-cfe1-4d0e-ae95-b6623c7b7c0b",
   "metadata": {
    "tags": []
   },
   "outputs": [],
   "source": [
    "import os\n",
    "import re\n",
    "import sys\n",
    "import pandas as pd\n",
    "from tqdm.auto import tqdm\n",
    "from datetime import datetime"
   ]
  },
  {
   "cell_type": "code",
   "execution_count": 2,
   "id": "281f7ed0-80e0-4ca8-8036-51bec01310bd",
   "metadata": {
    "tags": []
   },
   "outputs": [],
   "source": [
    "def find_external_links_in_file(file_path):\n",
    "    cannot_read_files = []\n",
    "    try:\n",
    "        with open(file_path, 'r') as file:\n",
    "            content = file.read()\n",
    "            \n",
    "        # Find all <link> tags with href attributes\n",
    "        link_tags = re.findall(r'<link[^>]+href=[\"\\'](.*?)[\"\\']', content)\n",
    "\n",
    "        # Find all <img> tags with src attributes\n",
    "        img_tags = re.findall(r'<img[^>]+src=[\"\\'](.*?)[\"\\']', content)\n",
    "\n",
    "        # Find all @font-face declarations with src attributes\n",
    "        font_face_tags = re.findall(r'@font-face[^}]+src:\\s*url\\([\"\\'](.*?)[\"\\']', content)\n",
    "\n",
    "        # Find all <script> tags with src attributes\n",
    "        script_tags = re.findall(r'<script[^>]+src=[\"\\'](.*?)[\"\\']', content)\n",
    "\n",
    "        # Filter out the external/CDN links\n",
    "        external_links = [link for link in link_tags + img_tags + font_face_tags + script_tags\n",
    "                          if link.startswith(('http://', 'https://'))]\n",
    "\n",
    "        return external_links\n",
    "    except:\n",
    "        print(f\"Can't read {file_path}\")\n",
    "        cannot_read_files.append(file_path)"
   ]
  },
  {
   "cell_type": "code",
   "execution_count": 48,
   "id": "157d9449-b3c8-4d2a-bf90-d542d9311faf",
   "metadata": {
    "tags": []
   },
   "outputs": [
    {
     "name": "stdout",
     "output_type": "stream",
     "text": [
      "12814\n"
     ]
    }
   ],
   "source": [
    "# len(os.listdir(project_path))\n",
    "\n",
    "# import glob\n",
    "# glob.glob(r'C:\\xampp\\htdocs\\glob\\Code\\html2/*/*.html')\n",
    "\n",
    "# project_path = r\"C:\\xampp\\htdocs\\glob\\Code\\html2\\packages\\Webkul\\Admin\\src\\Resources\\views\"\n",
    "project_path = r\"C:\\xampp\\htdocs\\glob\\Code\\html2\"\n",
    "\n",
    "number_of_files = 0\n",
    "for dirpath, dirnames, filenames in os.walk(project_path):\n",
    "        # for filename in filenames:\n",
    "        #     if any(filename.endswith(ext) for ext in ['.html', '.php', '.blade.php']):\n",
    "        number_of_files += len(dirnames)\n",
    "\n",
    "print(number_of_files)"
   ]
  },
  {
   "cell_type": "code",
   "execution_count": 43,
   "id": "40319a7d-d1fe-461d-9a85-5171c71716f8",
   "metadata": {
    "tags": []
   },
   "outputs": [],
   "source": [
    "def search_project_files_for_external_links(project_path):\n",
    "    # Define the file extensions to search\n",
    "    file_extensions = ['.html', '.php', '.blade.php']\n",
    "    \n",
    "    # tqdm progress bar\n",
    "    pbar = tqdm(total=number_of_files, file=sys.stdout, colour='green')\n",
    "\n",
    "    # Collect external links and file information\n",
    "    results = []\n",
    "    for dirpath, dirnames, filenames in os.walk(project_path):\n",
    "        for filename in filenames:\n",
    "            if any(filename.endswith(ext) for ext in file_extensions):\n",
    "                # update tqdm progress bar\n",
    "                pbar.update(1)\n",
    "                pbar.refresh()\n",
    "                \n",
    "                file_path = os.path.join(dirpath, filename)\n",
    "                file_external_links = find_external_links_in_file(file_path)\n",
    "                \n",
    "                # Get file information\n",
    "                # file_name = os.path.splitext(filename)[0]\n",
    "                # file_extension = os.path.splitext(filename)[1]\n",
    "                file_name = filename\n",
    "                file_parent_folder = os.path.basename(dirpath)\n",
    "                \n",
    "                # Append results for each external link found in the file\n",
    "                if file_external_links is not None:\n",
    "                    for link in file_external_links:\n",
    "                        results.append({\n",
    "                            'Domain': re.search('https?://([A-Za-z_0-9.-]+).*', link).group(1),\n",
    "                            'External Link': link,\n",
    "                            'File Name': file_name,\n",
    "                            # 'File Extension': file_extension,\n",
    "                            'File Parent Folder': file_parent_folder,\n",
    "                            'File Path': file_path\n",
    "                        })\n",
    "    pbar.close()\n",
    "    return results"
   ]
  },
  {
   "cell_type": "code",
   "execution_count": 44,
   "id": "0f8bbc09-b56c-4f40-8cd6-59300d7869e8",
   "metadata": {
    "tags": []
   },
   "outputs": [
    {
     "data": {
      "application/json": {
       "ascii": false,
       "bar_format": null,
       "colour": null,
       "elapsed": 0.020158052444458008,
       "initial": 0,
       "n": 0,
       "ncols": null,
       "nrows": 29,
       "postfix": null,
       "prefix": "",
       "rate": null,
       "total": 323773,
       "unit": "it",
       "unit_divisor": 1000,
       "unit_scale": false
      },
      "application/vnd.jupyter.widget-view+json": {
       "model_id": "5986ebfc5c464cbbbe8bee43b5922bc0",
       "version_major": 2,
       "version_minor": 0
      },
      "text/plain": [
       "  0%|          | 0/323773 [00:00<?, ?it/s]"
      ]
     },
     "metadata": {},
     "output_type": "display_data"
    },
    {
     "name": "stdout",
     "output_type": "stream",
     "text": [
      "Can't read C:\\xampp\\htdocs\\glob\\Code\\html2\\database\\seeders\\ComplaintOptionTranslationsTableSeeder.php\n",
      "Can't read C:\\xampp\\htdocs\\glob\\Code\\html2\\database\\seeders\\SectionSeeder.php\n",
      "Can't read C:\\xampp\\htdocs\\glob\\Code\\html2\\packages\\Glob\\CustomStyle\\src\\Resources\\lang\\ar\\app.php\n",
      "Can't read C:\\xampp\\htdocs\\glob\\Code\\html2\\packages\\Glob\\Pickup\\src\\resources\\lang\\ar\\app.php\n",
      "Can't read C:\\xampp\\htdocs\\glob\\Code\\html2\\packages\\Glob\\Pickup\\src\\resources\\lang\\fa\\app.php\n",
      "Can't read C:\\xampp\\htdocs\\glob\\Code\\html2\\packages\\RKREZA\\Contact\\src\\Resources\\lang\\ar\\app.php\n",
      "Can't read C:\\xampp\\htdocs\\glob\\Code\\html2\\packages\\Webkul\\Admin\\src\\Resources\\lang\\ar\\app.php\n",
      "Can't read C:\\xampp\\htdocs\\glob\\Code\\html2\\packages\\Webkul\\Admin\\src\\Resources\\lang\\de\\app.php\n",
      "Can't read C:\\xampp\\htdocs\\glob\\Code\\html2\\packages\\Webkul\\Admin\\src\\Resources\\lang\\en\\app.php\n",
      "Can't read C:\\xampp\\htdocs\\glob\\Code\\html2\\packages\\Webkul\\Admin\\src\\Resources\\lang\\es\\app.php\n",
      "Can't read C:\\xampp\\htdocs\\glob\\Code\\html2\\packages\\Webkul\\Admin\\src\\Resources\\lang\\fa\\app.php\n",
      "Can't read C:\\xampp\\htdocs\\glob\\Code\\html2\\packages\\Webkul\\Admin\\src\\Resources\\lang\\fr\\app.php\n",
      "Can't read C:\\xampp\\htdocs\\glob\\Code\\html2\\packages\\Webkul\\Admin\\src\\Resources\\lang\\it\\app.php\n",
      "Can't read C:\\xampp\\htdocs\\glob\\Code\\html2\\packages\\Webkul\\Admin\\src\\Resources\\lang\\nl\\app.php\n",
      "Can't read C:\\xampp\\htdocs\\glob\\Code\\html2\\packages\\Webkul\\Admin\\src\\Resources\\lang\\pl\\app.php\n",
      "Can't read C:\\xampp\\htdocs\\glob\\Code\\html2\\packages\\Webkul\\Admin\\src\\Resources\\lang\\pt_BR\\app.php\n",
      "Can't read C:\\xampp\\htdocs\\glob\\Code\\html2\\packages\\Webkul\\Admin\\src\\Resources\\lang\\tr\\app.php\n",
      "Can't read C:\\xampp\\htdocs\\glob\\Code\\html2\\packages\\Webkul\\Admin\\src\\Resources\\views\\cms\\create.blade.php\n",
      "Can't read C:\\xampp\\htdocs\\glob\\Code\\html2\\packages\\Webkul\\Admin\\src\\Resources\\views\\cms\\edit.blade.php\n",
      "Can't read C:\\xampp\\htdocs\\glob\\Code\\html2\\packages\\Webkul\\Admin\\src\\Resources\\views\\mystore\\pages\\editold.php\n",
      "Can't read C:\\xampp\\htdocs\\glob\\Code\\html2\\packages\\Webkul\\BookingProduct\\src\\Resources\\lang\\ar\\app.php\n",
      "Can't read C:\\xampp\\htdocs\\glob\\Code\\html2\\packages\\Webkul\\BookingProduct\\src\\Resources\\lang\\fa\\app.php\n",
      "Can't read C:\\xampp\\htdocs\\glob\\Code\\html2\\packages\\Webkul\\Core\\src\\Resources\\lang\\ar\\validation.php\n",
      "Can't read C:\\xampp\\htdocs\\glob\\Code\\html2\\packages\\Webkul\\Customer\\src\\Resources\\lang\\ar\\app.php\n",
      "Can't read C:\\xampp\\htdocs\\glob\\Code\\html2\\packages\\Webkul\\DeliveryTimeSlot\\src\\Resources\\lang\\ar\\app.php\n",
      "Can't read C:\\xampp\\htdocs\\glob\\Code\\html2\\packages\\Webkul\\DHLShipping\\src\\Resources\\lang\\ar\\app.php\n",
      "Can't read C:\\xampp\\htdocs\\glob\\Code\\html2\\packages\\Webkul\\Mobikul\\src\\Resources\\lang\\ar\\app.php\n",
      "Can't read C:\\xampp\\htdocs\\glob\\Code\\html2\\packages\\Webkul\\MobikulApiTransformer\\Resources\\lang\\ar\\app.php\n",
      "Can't read C:\\xampp\\htdocs\\glob\\Code\\html2\\packages\\Webkul\\MobikulApiTransformer\\Resources\\lang\\fa\\app.php\n",
      "Can't read C:\\xampp\\htdocs\\glob\\Code\\html2\\packages\\Webkul\\RestApi\\src\\Resources\\lang\\ar\\app.php\n",
      "Can't read C:\\xampp\\htdocs\\glob\\Code\\html2\\packages\\Webkul\\SAASCustomizer\\src\\DataGrids\\SuperMerchantDataGrid.php\n",
      "Can't read C:\\xampp\\htdocs\\glob\\Code\\html2\\packages\\Webkul\\SAASCustomizer\\src\\Helpers\\DataPurger.php\n",
      "Can't read C:\\xampp\\htdocs\\glob\\Code\\html2\\packages\\Webkul\\SAASCustomizer\\src\\Resources\\lang\\ar\\app.php\n",
      "Can't read C:\\xampp\\htdocs\\glob\\Code\\html2\\packages\\Webkul\\SAASCustomizer\\src\\Resources\\views\\partials\\register\\scriptJS.blade.php\n",
      "Can't read C:\\xampp\\htdocs\\glob\\Code\\html2\\packages\\Webkul\\SAASSubscription\\src\\Resources\\lang\\ar\\app.php\n",
      "Can't read C:\\xampp\\htdocs\\glob\\Code\\html2\\packages\\Webkul\\Shop\\src\\Resources\\lang\\ar\\app.php\n",
      "Can't read C:\\xampp\\htdocs\\glob\\Code\\html2\\packages\\Webkul\\Shop\\src\\Resources\\lang\\fa\\app.php\n",
      "Can't read C:\\xampp\\htdocs\\glob\\Code\\html2\\packages\\Webkul\\Shop\\src\\Resources\\lang\\ja\\app.php\n",
      "Can't read C:\\xampp\\htdocs\\glob\\Code\\html2\\packages\\Webkul\\Shop\\src\\Resources\\lang\\pl\\app.php\n",
      "Can't read C:\\xampp\\htdocs\\glob\\Code\\html2\\packages\\Webkul\\SocialLogin\\src\\Resources\\lang\\fa\\app.php\n",
      "Can't read C:\\xampp\\htdocs\\glob\\Code\\html2\\packages\\Webkul\\Tax\\src\\Resources\\lang\\ar\\app.php\n",
      "Can't read C:\\xampp\\htdocs\\glob\\Code\\html2\\packages\\Webkul\\Tax\\src\\Resources\\lang\\fa\\app.php\n",
      "Can't read C:\\xampp\\htdocs\\glob\\Code\\html2\\packages\\Webkul\\Ui\\src\\Resources\\lang\\ar\\app.php\n",
      "Can't read C:\\xampp\\htdocs\\glob\\Code\\html2\\packages\\Webkul\\Ui\\src\\Resources\\lang\\fa\\app.php\n",
      "Can't read C:\\xampp\\htdocs\\glob\\Code\\html2\\packages\\Webkul\\UpsShipping\\src\\Resources\\lang\\ar\\app.php\n",
      "Can't read C:\\xampp\\htdocs\\glob\\Code\\html2\\packages\\Webkul\\Velocity\\src\\Resources\\lang\\ar\\app.php\n",
      "Can't read C:\\xampp\\htdocs\\glob\\Code\\html2\\packages\\Webkul\\Velocity\\src\\Resources\\lang\\fa\\app.php\n",
      "Can't read C:\\xampp\\htdocs\\glob\\Code\\html2\\packages\\Webkul\\Velocity\\src\\Resources\\lang\\ja\\app.php\n",
      "Can't read C:\\xampp\\htdocs\\glob\\Code\\html2\\packages\\Webkul\\Velocity\\src\\Resources\\lang\\pl\\app.php\n",
      "Can't read C:\\xampp\\htdocs\\glob\\Code\\html2\\packages\\Webkul\\Velocity\\src\\Resources\\lang\\pt_BR\\app.php\n",
      "Can't read C:\\xampp\\htdocs\\glob\\Code\\html2\\public\\installer\\Views\\welcome.blade.php\n",
      "Can't read C:\\xampp\\htdocs\\glob\\Code\\html2\\resources\\lang\\ar\\validation.php\n",
      "Can't read C:\\xampp\\htdocs\\glob\\Code\\html2\\resources\\lang\\fa\\auth.php\n",
      "Can't read C:\\xampp\\htdocs\\glob\\Code\\html2\\resources\\lang\\fa\\validation.php\n",
      "Can't read C:\\xampp\\htdocs\\glob\\Code\\html2\\resources\\lang\\vendor\\admin\\ar\\app.php\n",
      "Can't read C:\\xampp\\htdocs\\glob\\Code\\html2\\resources\\lang\\vendor\\admin\\de\\app.php\n",
      "Can't read C:\\xampp\\htdocs\\glob\\Code\\html2\\resources\\lang\\vendor\\admin\\en\\app.php\n",
      "Can't read C:\\xampp\\htdocs\\glob\\Code\\html2\\resources\\lang\\vendor\\admin\\es\\app.php\n",
      "Can't read C:\\xampp\\htdocs\\glob\\Code\\html2\\resources\\lang\\vendor\\admin\\fa\\app.php\n",
      "Can't read C:\\xampp\\htdocs\\glob\\Code\\html2\\resources\\lang\\vendor\\admin\\fr\\app.php\n",
      "Can't read C:\\xampp\\htdocs\\glob\\Code\\html2\\resources\\lang\\vendor\\admin\\it\\app.php\n",
      "Can't read C:\\xampp\\htdocs\\glob\\Code\\html2\\resources\\lang\\vendor\\admin\\nl\\app.php\n",
      "Can't read C:\\xampp\\htdocs\\glob\\Code\\html2\\resources\\lang\\vendor\\admin\\pl\\app.php\n",
      "Can't read C:\\xampp\\htdocs\\glob\\Code\\html2\\resources\\lang\\vendor\\admin\\pt_BR\\app.php\n",
      "Can't read C:\\xampp\\htdocs\\glob\\Code\\html2\\resources\\lang\\vendor\\admin\\tr\\app.php\n",
      "Can't read C:\\xampp\\htdocs\\glob\\Code\\html2\\resources\\lang\\vendor\\shop\\ar\\app.php\n",
      "Can't read C:\\xampp\\htdocs\\glob\\Code\\html2\\resources\\lang\\vendor\\shop\\fa\\app.php\n",
      "Can't read C:\\xampp\\htdocs\\glob\\Code\\html2\\resources\\lang\\vendor\\shop\\ja\\app.php\n",
      "Can't read C:\\xampp\\htdocs\\glob\\Code\\html2\\resources\\lang\\vendor\\shop\\pl\\app.php\n",
      "Can't read C:\\xampp\\htdocs\\glob\\Code\\html2\\resources\\lang\\vendor\\velocity\\ar\\app.php\n",
      "Can't read C:\\xampp\\htdocs\\glob\\Code\\html2\\resources\\lang\\vendor\\velocity\\fa\\app.php\n",
      "Can't read C:\\xampp\\htdocs\\glob\\Code\\html2\\resources\\lang\\vendor\\velocity\\ja\\app.php\n",
      "Can't read C:\\xampp\\htdocs\\glob\\Code\\html2\\resources\\lang\\vendor\\velocity\\pl\\app.php\n",
      "Can't read C:\\xampp\\htdocs\\glob\\Code\\html2\\resources\\lang\\vendor\\velocity\\pt_BR\\app.php\n",
      "Can't read C:\\xampp\\htdocs\\glob\\Code\\html2\\storage\\framework\\views\\eab409daa3b5eb0f26680edb3293e2fdba5e460c.php\n",
      "Can't read C:\\xampp\\htdocs\\glob\\Code\\html2\\vendor\\aws\\aws-sdk-php\\src\\data\\migrationhubstrategy\\2020-02-19\\api-2.json.php\n",
      "Can't read C:\\xampp\\htdocs\\glob\\Code\\html2\\vendor\\behat\\gherkin\\i18n.php\n",
      "Can't read C:\\xampp\\htdocs\\glob\\Code\\html2\\vendor\\behat\\gherkin\\src\\Behat\\Gherkin\\Keywords\\ArrayKeywords.php\n",
      "Can't read C:\\xampp\\htdocs\\glob\\Code\\html2\\vendor\\codeception\\codeception\\ext\\Recorder.php\n",
      "Can't read C:\\xampp\\htdocs\\glob\\Code\\html2\\vendor\\codeception\\codeception\\src\\Codeception\\Lib\\Actor\\Shared\\Pause.php\n",
      "Can't read C:\\xampp\\htdocs\\glob\\Code\\html2\\vendor\\doctrine\\inflector\\lib\\Doctrine\\Inflector\\Inflector.php\n",
      "Can't read C:\\xampp\\htdocs\\glob\\Code\\html2\\vendor\\dompdf\\dompdf\\lib\\html5lib\\Data.php\n",
      "Can't read C:\\xampp\\htdocs\\glob\\Code\\html2\\vendor\\ezyang\\htmlpurifier\\library\\HTMLPurifier\\AttrDef\\CSS\\FontFamily.php\n",
      "Can't read C:\\xampp\\htdocs\\glob\\Code\\html2\\vendor\\maennchen\\zipstream-php\\test\\ZipStreamTest.php\n",
      "Can't read C:\\xampp\\htdocs\\glob\\Code\\html2\\vendor\\nesbot\\carbon\\src\\Carbon\\CarbonInterface.php\n",
      "Can't read C:\\xampp\\htdocs\\glob\\Code\\html2\\vendor\\nesbot\\carbon\\src\\Carbon\\Lang\\agq.php\n",
      "Can't read C:\\xampp\\htdocs\\glob\\Code\\html2\\vendor\\nesbot\\carbon\\src\\Carbon\\Lang\\ak_GH.php\n",
      "Can't read C:\\xampp\\htdocs\\glob\\Code\\html2\\vendor\\nesbot\\carbon\\src\\Carbon\\Lang\\am_ET.php\n",
      "Can't read C:\\xampp\\htdocs\\glob\\Code\\html2\\vendor\\nesbot\\carbon\\src\\Carbon\\Lang\\anp_IN.php\n",
      "Can't read C:\\xampp\\htdocs\\glob\\Code\\html2\\vendor\\nesbot\\carbon\\src\\Carbon\\Lang\\ar.php\n",
      "Can't read C:\\xampp\\htdocs\\glob\\Code\\html2\\vendor\\nesbot\\carbon\\src\\Carbon\\Lang\\ar_AE.php\n",
      "Can't read C:\\xampp\\htdocs\\glob\\Code\\html2\\vendor\\nesbot\\carbon\\src\\Carbon\\Lang\\ar_BH.php\n",
      "Can't read C:\\xampp\\htdocs\\glob\\Code\\html2\\vendor\\nesbot\\carbon\\src\\Carbon\\Lang\\ar_DZ.php\n",
      "Can't read C:\\xampp\\htdocs\\glob\\Code\\html2\\vendor\\nesbot\\carbon\\src\\Carbon\\Lang\\ar_EG.php\n",
      "Can't read C:\\xampp\\htdocs\\glob\\Code\\html2\\vendor\\nesbot\\carbon\\src\\Carbon\\Lang\\ar_IN.php\n",
      "Can't read C:\\xampp\\htdocs\\glob\\Code\\html2\\vendor\\nesbot\\carbon\\src\\Carbon\\Lang\\ar_KW.php\n",
      "Can't read C:\\xampp\\htdocs\\glob\\Code\\html2\\vendor\\nesbot\\carbon\\src\\Carbon\\Lang\\ar_LY.php\n",
      "Can't read C:\\xampp\\htdocs\\glob\\Code\\html2\\vendor\\nesbot\\carbon\\src\\Carbon\\Lang\\ar_MA.php\n",
      "Can't read C:\\xampp\\htdocs\\glob\\Code\\html2\\vendor\\nesbot\\carbon\\src\\Carbon\\Lang\\ar_OM.php\n",
      "Can't read C:\\xampp\\htdocs\\glob\\Code\\html2\\vendor\\nesbot\\carbon\\src\\Carbon\\Lang\\ar_QA.php\n",
      "Can't read C:\\xampp\\htdocs\\glob\\Code\\html2\\vendor\\nesbot\\carbon\\src\\Carbon\\Lang\\ar_SA.php\n",
      "Can't read C:\\xampp\\htdocs\\glob\\Code\\html2\\vendor\\nesbot\\carbon\\src\\Carbon\\Lang\\ar_SD.php\n",
      "Can't read C:\\xampp\\htdocs\\glob\\Code\\html2\\vendor\\nesbot\\carbon\\src\\Carbon\\Lang\\ar_Shakl.php\n",
      "Can't read C:\\xampp\\htdocs\\glob\\Code\\html2\\vendor\\nesbot\\carbon\\src\\Carbon\\Lang\\ar_SS.php\n",
      "Can't read C:\\xampp\\htdocs\\glob\\Code\\html2\\vendor\\nesbot\\carbon\\src\\Carbon\\Lang\\ar_TN.php\n",
      "Can't read C:\\xampp\\htdocs\\glob\\Code\\html2\\vendor\\nesbot\\carbon\\src\\Carbon\\Lang\\ar_YE.php\n",
      "Can't read C:\\xampp\\htdocs\\glob\\Code\\html2\\vendor\\nesbot\\carbon\\src\\Carbon\\Lang\\as_IN.php\n",
      "Can't read C:\\xampp\\htdocs\\glob\\Code\\html2\\vendor\\nesbot\\carbon\\src\\Carbon\\Lang\\az_Cyrl.php\n",
      "Can't read C:\\xampp\\htdocs\\glob\\Code\\html2\\vendor\\nesbot\\carbon\\src\\Carbon\\Lang\\az_IR.php\n",
      "Can't read C:\\xampp\\htdocs\\glob\\Code\\html2\\vendor\\nesbot\\carbon\\src\\Carbon\\Lang\\be.php\n",
      "Can't read C:\\xampp\\htdocs\\glob\\Code\\html2\\vendor\\nesbot\\carbon\\src\\Carbon\\Lang\\be_BY.php\n",
      "Can't read C:\\xampp\\htdocs\\glob\\Code\\html2\\vendor\\nesbot\\carbon\\src\\Carbon\\Lang\\be_BY@latin.php\n",
      "Can't read C:\\xampp\\htdocs\\glob\\Code\\html2\\vendor\\nesbot\\carbon\\src\\Carbon\\Lang\\bg.php\n",
      "Can't read C:\\xampp\\htdocs\\glob\\Code\\html2\\vendor\\nesbot\\carbon\\src\\Carbon\\Lang\\bho_IN.php\n",
      "Can't read C:\\xampp\\htdocs\\glob\\Code\\html2\\vendor\\nesbot\\carbon\\src\\Carbon\\Lang\\bn.php\n",
      "Can't read C:\\xampp\\htdocs\\glob\\Code\\html2\\vendor\\nesbot\\carbon\\src\\Carbon\\Lang\\bn_BD.php\n",
      "Can't read C:\\xampp\\htdocs\\glob\\Code\\html2\\vendor\\nesbot\\carbon\\src\\Carbon\\Lang\\bn_IN.php\n",
      "Can't read C:\\xampp\\htdocs\\glob\\Code\\html2\\vendor\\nesbot\\carbon\\src\\Carbon\\Lang\\bo.php\n",
      "Can't read C:\\xampp\\htdocs\\glob\\Code\\html2\\vendor\\nesbot\\carbon\\src\\Carbon\\Lang\\brx_IN.php\n",
      "Can't read C:\\xampp\\htdocs\\glob\\Code\\html2\\vendor\\nesbot\\carbon\\src\\Carbon\\Lang\\bs.php\n",
      "Can't read C:\\xampp\\htdocs\\glob\\Code\\html2\\vendor\\nesbot\\carbon\\src\\Carbon\\Lang\\bs_Cyrl.php\n",
      "Can't read C:\\xampp\\htdocs\\glob\\Code\\html2\\vendor\\nesbot\\carbon\\src\\Carbon\\Lang\\byn_ER.php\n",
      "Can't read C:\\xampp\\htdocs\\glob\\Code\\html2\\vendor\\nesbot\\carbon\\src\\Carbon\\Lang\\ccp.php\n",
      "Can't read C:\\xampp\\htdocs\\glob\\Code\\html2\\vendor\\nesbot\\carbon\\src\\Carbon\\Lang\\ce_RU.php\n",
      "Can't read C:\\xampp\\htdocs\\glob\\Code\\html2\\vendor\\nesbot\\carbon\\src\\Carbon\\Lang\\chr_US.php\n",
      "Can't read C:\\xampp\\htdocs\\glob\\Code\\html2\\vendor\\nesbot\\carbon\\src\\Carbon\\Lang\\ckb.php\n",
      "Can't read C:\\xampp\\htdocs\\glob\\Code\\html2\\vendor\\nesbot\\carbon\\src\\Carbon\\Lang\\cmn_TW.php\n",
      "Can't read C:\\xampp\\htdocs\\glob\\Code\\html2\\vendor\\nesbot\\carbon\\src\\Carbon\\Lang\\cs.php\n",
      "Can't read C:\\xampp\\htdocs\\glob\\Code\\html2\\vendor\\nesbot\\carbon\\src\\Carbon\\Lang\\cu.php\n",
      "Can't read C:\\xampp\\htdocs\\glob\\Code\\html2\\vendor\\nesbot\\carbon\\src\\Carbon\\Lang\\cv.php\n",
      "Can't read C:\\xampp\\htdocs\\glob\\Code\\html2\\vendor\\nesbot\\carbon\\src\\Carbon\\Lang\\doi_IN.php\n",
      "Can't read C:\\xampp\\htdocs\\glob\\Code\\html2\\vendor\\nesbot\\carbon\\src\\Carbon\\Lang\\dua.php\n",
      "Can't read C:\\xampp\\htdocs\\glob\\Code\\html2\\vendor\\nesbot\\carbon\\src\\Carbon\\Lang\\dv.php\n",
      "Can't read C:\\xampp\\htdocs\\glob\\Code\\html2\\vendor\\nesbot\\carbon\\src\\Carbon\\Lang\\dv_MV.php\n",
      "Can't read C:\\xampp\\htdocs\\glob\\Code\\html2\\vendor\\nesbot\\carbon\\src\\Carbon\\Lang\\el.php\n",
      "Can't read C:\\xampp\\htdocs\\glob\\Code\\html2\\vendor\\nesbot\\carbon\\src\\Carbon\\Lang\\ewo.php\n",
      "Can't read C:\\xampp\\htdocs\\glob\\Code\\html2\\vendor\\nesbot\\carbon\\src\\Carbon\\Lang\\fa.php\n",
      "Can't read C:\\xampp\\htdocs\\glob\\Code\\html2\\vendor\\nesbot\\carbon\\src\\Carbon\\Lang\\fa_AF.php\n",
      "Can't read C:\\xampp\\htdocs\\glob\\Code\\html2\\vendor\\nesbot\\carbon\\src\\Carbon\\Lang\\fo.php\n",
      "Can't read C:\\xampp\\htdocs\\glob\\Code\\html2\\vendor\\nesbot\\carbon\\src\\Carbon\\Lang\\gez_ER.php\n",
      "Can't read C:\\xampp\\htdocs\\glob\\Code\\html2\\vendor\\nesbot\\carbon\\src\\Carbon\\Lang\\gez_ET.php\n",
      "Can't read C:\\xampp\\htdocs\\glob\\Code\\html2\\vendor\\nesbot\\carbon\\src\\Carbon\\Lang\\gu.php\n",
      "Can't read C:\\xampp\\htdocs\\glob\\Code\\html2\\vendor\\nesbot\\carbon\\src\\Carbon\\Lang\\hak_TW.php\n",
      "Can't read C:\\xampp\\htdocs\\glob\\Code\\html2\\vendor\\nesbot\\carbon\\src\\Carbon\\Lang\\haw.php\n",
      "Can't read C:\\xampp\\htdocs\\glob\\Code\\html2\\vendor\\nesbot\\carbon\\src\\Carbon\\Lang\\he.php\n",
      "Can't read C:\\xampp\\htdocs\\glob\\Code\\html2\\vendor\\nesbot\\carbon\\src\\Carbon\\Lang\\hi.php\n",
      "Can't read C:\\xampp\\htdocs\\glob\\Code\\html2\\vendor\\nesbot\\carbon\\src\\Carbon\\Lang\\hne_IN.php\n",
      "Can't read C:\\xampp\\htdocs\\glob\\Code\\html2\\vendor\\nesbot\\carbon\\src\\Carbon\\Lang\\hr.php\n",
      "Can't read C:\\xampp\\htdocs\\glob\\Code\\html2\\vendor\\nesbot\\carbon\\src\\Carbon\\Lang\\hr_BA.php\n",
      "Can't read C:\\xampp\\htdocs\\glob\\Code\\html2\\vendor\\nesbot\\carbon\\src\\Carbon\\Lang\\hy.php\n",
      "Can't read C:\\xampp\\htdocs\\glob\\Code\\html2\\vendor\\nesbot\\carbon\\src\\Carbon\\Lang\\ig_NG.php\n",
      "Can't read C:\\xampp\\htdocs\\glob\\Code\\html2\\vendor\\nesbot\\carbon\\src\\Carbon\\Lang\\ii.php\n",
      "Can't read C:\\xampp\\htdocs\\glob\\Code\\html2\\vendor\\nesbot\\carbon\\src\\Carbon\\Lang\\iu_CA.php\n",
      "Can't read C:\\xampp\\htdocs\\glob\\Code\\html2\\vendor\\nesbot\\carbon\\src\\Carbon\\Lang\\iw.php\n",
      "Can't read C:\\xampp\\htdocs\\glob\\Code\\html2\\vendor\\nesbot\\carbon\\src\\Carbon\\Lang\\ja.php\n",
      "Can't read C:\\xampp\\htdocs\\glob\\Code\\html2\\vendor\\nesbot\\carbon\\src\\Carbon\\Lang\\ka.php\n",
      "Can't read C:\\xampp\\htdocs\\glob\\Code\\html2\\vendor\\nesbot\\carbon\\src\\Carbon\\Lang\\kk.php\n",
      "Can't read C:\\xampp\\htdocs\\glob\\Code\\html2\\vendor\\nesbot\\carbon\\src\\Carbon\\Lang\\km.php\n",
      "Can't read C:\\xampp\\htdocs\\glob\\Code\\html2\\vendor\\nesbot\\carbon\\src\\Carbon\\Lang\\kn.php\n",
      "Can't read C:\\xampp\\htdocs\\glob\\Code\\html2\\vendor\\nesbot\\carbon\\src\\Carbon\\Lang\\ko.php\n",
      "Can't read C:\\xampp\\htdocs\\glob\\Code\\html2\\vendor\\nesbot\\carbon\\src\\Carbon\\Lang\\kok_IN.php\n",
      "Can't read C:\\xampp\\htdocs\\glob\\Code\\html2\\vendor\\nesbot\\carbon\\src\\Carbon\\Lang\\ksf.php\n",
      "Can't read C:\\xampp\\htdocs\\glob\\Code\\html2\\vendor\\nesbot\\carbon\\src\\Carbon\\Lang\\ks_IN.php\n",
      "Can't read C:\\xampp\\htdocs\\glob\\Code\\html2\\vendor\\nesbot\\carbon\\src\\Carbon\\Lang\\ks_IN@devanagari.php\n",
      "Can't read C:\\xampp\\htdocs\\glob\\Code\\html2\\vendor\\nesbot\\carbon\\src\\Carbon\\Lang\\ky.php\n",
      "Can't read C:\\xampp\\htdocs\\glob\\Code\\html2\\vendor\\nesbot\\carbon\\src\\Carbon\\Lang\\lag.php\n",
      "Can't read C:\\xampp\\htdocs\\glob\\Code\\html2\\vendor\\nesbot\\carbon\\src\\Carbon\\Lang\\lkt.php\n",
      "Can't read C:\\xampp\\htdocs\\glob\\Code\\html2\\vendor\\nesbot\\carbon\\src\\Carbon\\Lang\\ln.php\n",
      "Can't read C:\\xampp\\htdocs\\glob\\Code\\html2\\vendor\\nesbot\\carbon\\src\\Carbon\\Lang\\ln_AO.php\n",
      "Can't read C:\\xampp\\htdocs\\glob\\Code\\html2\\vendor\\nesbot\\carbon\\src\\Carbon\\Lang\\ln_CF.php\n",
      "Can't read C:\\xampp\\htdocs\\glob\\Code\\html2\\vendor\\nesbot\\carbon\\src\\Carbon\\Lang\\ln_CG.php\n",
      "Can't read C:\\xampp\\htdocs\\glob\\Code\\html2\\vendor\\nesbot\\carbon\\src\\Carbon\\Lang\\lo.php\n",
      "Can't read C:\\xampp\\htdocs\\glob\\Code\\html2\\vendor\\nesbot\\carbon\\src\\Carbon\\Lang\\lt.php\n",
      "Can't read C:\\xampp\\htdocs\\glob\\Code\\html2\\vendor\\nesbot\\carbon\\src\\Carbon\\Lang\\lv.php\n",
      "Can't read C:\\xampp\\htdocs\\glob\\Code\\html2\\vendor\\nesbot\\carbon\\src\\Carbon\\Lang\\lzh_TW.php\n",
      "Can't read C:\\xampp\\htdocs\\glob\\Code\\html2\\vendor\\nesbot\\carbon\\src\\Carbon\\Lang\\mag_IN.php\n",
      "Can't read C:\\xampp\\htdocs\\glob\\Code\\html2\\vendor\\nesbot\\carbon\\src\\Carbon\\Lang\\mai_IN.php\n",
      "Can't read C:\\xampp\\htdocs\\glob\\Code\\html2\\vendor\\nesbot\\carbon\\src\\Carbon\\Lang\\mas.php\n",
      "Can't read C:\\xampp\\htdocs\\glob\\Code\\html2\\vendor\\nesbot\\carbon\\src\\Carbon\\Lang\\mhr_RU.php\n",
      "Can't read C:\\xampp\\htdocs\\glob\\Code\\html2\\vendor\\nesbot\\carbon\\src\\Carbon\\Lang\\mi.php\n",
      "Can't read C:\\xampp\\htdocs\\glob\\Code\\html2\\vendor\\nesbot\\carbon\\src\\Carbon\\Lang\\mk.php\n",
      "Can't read C:\\xampp\\htdocs\\glob\\Code\\html2\\vendor\\nesbot\\carbon\\src\\Carbon\\Lang\\ml.php\n",
      "Can't read C:\\xampp\\htdocs\\glob\\Code\\html2\\vendor\\nesbot\\carbon\\src\\Carbon\\Lang\\mn.php\n",
      "Can't read C:\\xampp\\htdocs\\glob\\Code\\html2\\vendor\\nesbot\\carbon\\src\\Carbon\\Lang\\mni_IN.php\n",
      "Can't read C:\\xampp\\htdocs\\glob\\Code\\html2\\vendor\\nesbot\\carbon\\src\\Carbon\\Lang\\mr.php\n",
      "Can't read C:\\xampp\\htdocs\\glob\\Code\\html2\\vendor\\nesbot\\carbon\\src\\Carbon\\Lang\\mua.php\n",
      "Can't read C:\\xampp\\htdocs\\glob\\Code\\html2\\vendor\\nesbot\\carbon\\src\\Carbon\\Lang\\my.php\n",
      "Can't read C:\\xampp\\htdocs\\glob\\Code\\html2\\vendor\\nesbot\\carbon\\src\\Carbon\\Lang\\mzn.php\n",
      "Can't read C:\\xampp\\htdocs\\glob\\Code\\html2\\vendor\\nesbot\\carbon\\src\\Carbon\\Lang\\nan_TW.php\n",
      "Can't read C:\\xampp\\htdocs\\glob\\Code\\html2\\vendor\\nesbot\\carbon\\src\\Carbon\\Lang\\nan_TW@latin.php\n",
      "Can't read C:\\xampp\\htdocs\\glob\\Code\\html2\\vendor\\nesbot\\carbon\\src\\Carbon\\Lang\\naq.php\n",
      "Can't read C:\\xampp\\htdocs\\glob\\Code\\html2\\vendor\\nesbot\\carbon\\src\\Carbon\\Lang\\ne.php\n",
      "Can't read C:\\xampp\\htdocs\\glob\\Code\\html2\\vendor\\nesbot\\carbon\\src\\Carbon\\Lang\\ne_IN.php\n",
      "Can't read C:\\xampp\\htdocs\\glob\\Code\\html2\\vendor\\nesbot\\carbon\\src\\Carbon\\Lang\\niu_NU.php\n",
      "Can't read C:\\xampp\\htdocs\\glob\\Code\\html2\\vendor\\nesbot\\carbon\\src\\Carbon\\Lang\\nmg.php\n",
      "Can't read C:\\xampp\\htdocs\\glob\\Code\\html2\\vendor\\nesbot\\carbon\\src\\Carbon\\Lang\\nnh.php\n",
      "Can't read C:\\xampp\\htdocs\\glob\\Code\\html2\\vendor\\nesbot\\carbon\\src\\Carbon\\Lang\\or_IN.php\n",
      "Can't read C:\\xampp\\htdocs\\glob\\Code\\html2\\vendor\\nesbot\\carbon\\src\\Carbon\\Lang\\os_RU.php\n",
      "Can't read C:\\xampp\\htdocs\\glob\\Code\\html2\\vendor\\nesbot\\carbon\\src\\Carbon\\Lang\\pa.php\n",
      "Can't read C:\\xampp\\htdocs\\glob\\Code\\html2\\vendor\\nesbot\\carbon\\src\\Carbon\\Lang\\pa_Arab.php\n",
      "Can't read C:\\xampp\\htdocs\\glob\\Code\\html2\\vendor\\nesbot\\carbon\\src\\Carbon\\Lang\\pa_Guru.php\n",
      "Can't read C:\\xampp\\htdocs\\glob\\Code\\html2\\vendor\\nesbot\\carbon\\src\\Carbon\\Lang\\pa_PK.php\n",
      "Can't read C:\\xampp\\htdocs\\glob\\Code\\html2\\vendor\\nesbot\\carbon\\src\\Carbon\\Lang\\ps.php\n",
      "Can't read C:\\xampp\\htdocs\\glob\\Code\\html2\\vendor\\nesbot\\carbon\\src\\Carbon\\Lang\\raj_IN.php\n",
      "Can't read C:\\xampp\\htdocs\\glob\\Code\\html2\\vendor\\nesbot\\carbon\\src\\Carbon\\Lang\\ru.php\n",
      "Can't read C:\\xampp\\htdocs\\glob\\Code\\html2\\vendor\\nesbot\\carbon\\src\\Carbon\\Lang\\ru_UA.php\n",
      "Can't read C:\\xampp\\htdocs\\glob\\Code\\html2\\vendor\\nesbot\\carbon\\src\\Carbon\\Lang\\sah_RU.php\n",
      "Can't read C:\\xampp\\htdocs\\glob\\Code\\html2\\vendor\\nesbot\\carbon\\src\\Carbon\\Lang\\sat_IN.php\n",
      "Can't read C:\\xampp\\htdocs\\glob\\Code\\html2\\vendor\\nesbot\\carbon\\src\\Carbon\\Lang\\sa_IN.php\n",
      "Can't read C:\\xampp\\htdocs\\glob\\Code\\html2\\vendor\\nesbot\\carbon\\src\\Carbon\\Lang\\sd.php\n",
      "Can't read C:\\xampp\\htdocs\\glob\\Code\\html2\\vendor\\nesbot\\carbon\\src\\Carbon\\Lang\\sd_IN.php\n",
      "Can't read C:\\xampp\\htdocs\\glob\\Code\\html2\\vendor\\nesbot\\carbon\\src\\Carbon\\Lang\\sd_IN@devanagari.php\n",
      "Can't read C:\\xampp\\htdocs\\glob\\Code\\html2\\vendor\\nesbot\\carbon\\src\\Carbon\\Lang\\se.php\n",
      "Can't read C:\\xampp\\htdocs\\glob\\Code\\html2\\vendor\\nesbot\\carbon\\src\\Carbon\\Lang\\se_FI.php\n",
      "Can't read C:\\xampp\\htdocs\\glob\\Code\\html2\\vendor\\nesbot\\carbon\\src\\Carbon\\Lang\\sg.php\n",
      "Can't read C:\\xampp\\htdocs\\glob\\Code\\html2\\vendor\\nesbot\\carbon\\src\\Carbon\\Lang\\sgs_LT.php\n",
      "Can't read C:\\xampp\\htdocs\\glob\\Code\\html2\\vendor\\nesbot\\carbon\\src\\Carbon\\Lang\\sh.php\n",
      "Can't read C:\\xampp\\htdocs\\glob\\Code\\html2\\vendor\\nesbot\\carbon\\src\\Carbon\\Lang\\shi.php\n",
      "Can't read C:\\xampp\\htdocs\\glob\\Code\\html2\\vendor\\nesbot\\carbon\\src\\Carbon\\Lang\\shi_Latn.php\n",
      "Can't read C:\\xampp\\htdocs\\glob\\Code\\html2\\vendor\\nesbot\\carbon\\src\\Carbon\\Lang\\shn_MM.php\n",
      "Can't read C:\\xampp\\htdocs\\glob\\Code\\html2\\vendor\\nesbot\\carbon\\src\\Carbon\\Lang\\si.php\n",
      "Can't read C:\\xampp\\htdocs\\glob\\Code\\html2\\vendor\\nesbot\\carbon\\src\\Carbon\\Lang\\sk.php\n",
      "Can't read C:\\xampp\\htdocs\\glob\\Code\\html2\\vendor\\nesbot\\carbon\\src\\Carbon\\Lang\\sl.php\n",
      "Can't read C:\\xampp\\htdocs\\glob\\Code\\html2\\vendor\\nesbot\\carbon\\src\\Carbon\\Lang\\smn.php\n",
      "Can't read C:\\xampp\\htdocs\\glob\\Code\\html2\\vendor\\nesbot\\carbon\\src\\Carbon\\Lang\\sm_WS.php\n",
      "Can't read C:\\xampp\\htdocs\\glob\\Code\\html2\\vendor\\nesbot\\carbon\\src\\Carbon\\Lang\\sr.php\n",
      "Can't read C:\\xampp\\htdocs\\glob\\Code\\html2\\vendor\\nesbot\\carbon\\src\\Carbon\\Lang\\sr_Cyrl.php\n",
      "Can't read C:\\xampp\\htdocs\\glob\\Code\\html2\\vendor\\nesbot\\carbon\\src\\Carbon\\Lang\\sr_Cyrl_BA.php\n",
      "Can't read C:\\xampp\\htdocs\\glob\\Code\\html2\\vendor\\nesbot\\carbon\\src\\Carbon\\Lang\\sr_Cyrl_ME.php\n",
      "Can't read C:\\xampp\\htdocs\\glob\\Code\\html2\\vendor\\nesbot\\carbon\\src\\Carbon\\Lang\\sr_Cyrl_XK.php\n",
      "Can't read C:\\xampp\\htdocs\\glob\\Code\\html2\\vendor\\nesbot\\carbon\\src\\Carbon\\Lang\\sr_Latn_BA.php\n",
      "Can't read C:\\xampp\\htdocs\\glob\\Code\\html2\\vendor\\nesbot\\carbon\\src\\Carbon\\Lang\\sr_Latn_ME.php\n",
      "Can't read C:\\xampp\\htdocs\\glob\\Code\\html2\\vendor\\nesbot\\carbon\\src\\Carbon\\Lang\\sr_Latn_XK.php\n",
      "Can't read C:\\xampp\\htdocs\\glob\\Code\\html2\\vendor\\nesbot\\carbon\\src\\Carbon\\Lang\\szl_PL.php\n",
      "Can't read C:\\xampp\\htdocs\\glob\\Code\\html2\\vendor\\nesbot\\carbon\\src\\Carbon\\Lang\\ta.php\n",
      "Can't read C:\\xampp\\htdocs\\glob\\Code\\html2\\vendor\\nesbot\\carbon\\src\\Carbon\\Lang\\ta_IN.php\n",
      "Can't read C:\\xampp\\htdocs\\glob\\Code\\html2\\vendor\\nesbot\\carbon\\src\\Carbon\\Lang\\ta_LK.php\n",
      "Can't read C:\\xampp\\htdocs\\glob\\Code\\html2\\vendor\\nesbot\\carbon\\src\\Carbon\\Lang\\ta_MY.php\n",
      "Can't read C:\\xampp\\htdocs\\glob\\Code\\html2\\vendor\\nesbot\\carbon\\src\\Carbon\\Lang\\ta_SG.php\n",
      "Can't read C:\\xampp\\htdocs\\glob\\Code\\html2\\vendor\\nesbot\\carbon\\src\\Carbon\\Lang\\tcy_IN.php\n",
      "Can't read C:\\xampp\\htdocs\\glob\\Code\\html2\\vendor\\nesbot\\carbon\\src\\Carbon\\Lang\\te.php\n",
      "Can't read C:\\xampp\\htdocs\\glob\\Code\\html2\\vendor\\nesbot\\carbon\\src\\Carbon\\Lang\\tg.php\n",
      "Can't read C:\\xampp\\htdocs\\glob\\Code\\html2\\vendor\\nesbot\\carbon\\src\\Carbon\\Lang\\th.php\n",
      "Can't read C:\\xampp\\htdocs\\glob\\Code\\html2\\vendor\\nesbot\\carbon\\src\\Carbon\\Lang\\the_NP.php\n",
      "Can't read C:\\xampp\\htdocs\\glob\\Code\\html2\\vendor\\nesbot\\carbon\\src\\Carbon\\Lang\\tig_ER.php\n",
      "Can't read C:\\xampp\\htdocs\\glob\\Code\\html2\\vendor\\nesbot\\carbon\\src\\Carbon\\Lang\\ti_ER.php\n",
      "Can't read C:\\xampp\\htdocs\\glob\\Code\\html2\\vendor\\nesbot\\carbon\\src\\Carbon\\Lang\\ti_ET.php\n",
      "Can't read C:\\xampp\\htdocs\\glob\\Code\\html2\\vendor\\nesbot\\carbon\\src\\Carbon\\Lang\\tk_TM.php\n",
      "Can't read C:\\xampp\\htdocs\\glob\\Code\\html2\\vendor\\nesbot\\carbon\\src\\Carbon\\Lang\\to_TO.php\n",
      "Can't read C:\\xampp\\htdocs\\glob\\Code\\html2\\vendor\\nesbot\\carbon\\src\\Carbon\\Lang\\tt_RU.php\n",
      "Can't read C:\\xampp\\htdocs\\glob\\Code\\html2\\vendor\\nesbot\\carbon\\src\\Carbon\\Lang\\tzm.php\n",
      "Can't read C:\\xampp\\htdocs\\glob\\Code\\html2\\vendor\\nesbot\\carbon\\src\\Carbon\\Lang\\tzm_Latn.php\n",
      "Can't read C:\\xampp\\htdocs\\glob\\Code\\html2\\vendor\\nesbot\\carbon\\src\\Carbon\\Lang\\ug.php\n",
      "Can't read C:\\xampp\\htdocs\\glob\\Code\\html2\\vendor\\nesbot\\carbon\\src\\Carbon\\Lang\\uk.php\n",
      "Can't read C:\\xampp\\htdocs\\glob\\Code\\html2\\vendor\\nesbot\\carbon\\src\\Carbon\\Lang\\ur.php\n",
      "Can't read C:\\xampp\\htdocs\\glob\\Code\\html2\\vendor\\nesbot\\carbon\\src\\Carbon\\Lang\\ur_IN.php\n",
      "Can't read C:\\xampp\\htdocs\\glob\\Code\\html2\\vendor\\nesbot\\carbon\\src\\Carbon\\Lang\\ur_PK.php\n",
      "Can't read C:\\xampp\\htdocs\\glob\\Code\\html2\\vendor\\nesbot\\carbon\\src\\Carbon\\Lang\\uz.php\n",
      "Can't read C:\\xampp\\htdocs\\glob\\Code\\html2\\vendor\\nesbot\\carbon\\src\\Carbon\\Lang\\uz_Arab.php\n",
      "Can't read C:\\xampp\\htdocs\\glob\\Code\\html2\\vendor\\nesbot\\carbon\\src\\Carbon\\Lang\\uz_UZ@cyrillic.php\n",
      "Can't read C:\\xampp\\htdocs\\glob\\Code\\html2\\vendor\\nesbot\\carbon\\src\\Carbon\\Lang\\vai.php\n",
      "Can't read C:\\xampp\\htdocs\\glob\\Code\\html2\\vendor\\nesbot\\carbon\\src\\Carbon\\Lang\\vi.php\n",
      "Can't read C:\\xampp\\htdocs\\glob\\Code\\html2\\vendor\\nesbot\\carbon\\src\\Carbon\\Lang\\wae_CH.php\n",
      "Can't read C:\\xampp\\htdocs\\glob\\Code\\html2\\vendor\\nesbot\\carbon\\src\\Carbon\\Lang\\wal_ET.php\n",
      "Can't read C:\\xampp\\htdocs\\glob\\Code\\html2\\vendor\\nesbot\\carbon\\src\\Carbon\\Lang\\yav.php\n",
      "Can't read C:\\xampp\\htdocs\\glob\\Code\\html2\\vendor\\nesbot\\carbon\\src\\Carbon\\Lang\\yi_US.php\n",
      "Can't read C:\\xampp\\htdocs\\glob\\Code\\html2\\vendor\\nesbot\\carbon\\src\\Carbon\\Lang\\yo.php\n",
      "Can't read C:\\xampp\\htdocs\\glob\\Code\\html2\\vendor\\nesbot\\carbon\\src\\Carbon\\Lang\\yo_BJ.php\n",
      "Can't read C:\\xampp\\htdocs\\glob\\Code\\html2\\vendor\\nesbot\\carbon\\src\\Carbon\\Lang\\yue_HK.php\n",
      "Can't read C:\\xampp\\htdocs\\glob\\Code\\html2\\vendor\\nesbot\\carbon\\src\\Carbon\\Lang\\zgh.php\n",
      "Can't read C:\\xampp\\htdocs\\glob\\Code\\html2\\vendor\\nesbot\\carbon\\src\\Carbon\\Lang\\zh_Hans.php\n",
      "Can't read C:\\xampp\\htdocs\\glob\\Code\\html2\\vendor\\nesbot\\carbon\\src\\Carbon\\Lang\\zh_Hant.php\n",
      "Can't read C:\\xampp\\htdocs\\glob\\Code\\html2\\vendor\\nesbot\\carbon\\src\\Carbon\\Lang\\zh_MO.php\n",
      "Can't read C:\\xampp\\htdocs\\glob\\Code\\html2\\vendor\\nesbot\\carbon\\src\\Carbon\\Lang\\zh_SG.php\n",
      "Can't read C:\\xampp\\htdocs\\glob\\Code\\html2\\vendor\\nesbot\\carbon\\src\\Carbon\\List\\languages.php\n",
      "Can't read C:\\xampp\\htdocs\\glob\\Code\\html2\\vendor\\nesbot\\carbon\\src\\Carbon\\Traits\\Comparison.php\n",
      "Can't read C:\\xampp\\htdocs\\glob\\Code\\html2\\vendor\\symfony\\polyfill-iconv\\Resources\\charset\\from.big5.php\n",
      "Can't read C:\\xampp\\htdocs\\glob\\Code\\html2\\vendor\\symfony\\polyfill-iconv\\Resources\\charset\\from.cp037.php\n",
      "Can't read C:\\xampp\\htdocs\\glob\\Code\\html2\\vendor\\symfony\\polyfill-iconv\\Resources\\charset\\from.cp1006.php\n",
      "Can't read C:\\xampp\\htdocs\\glob\\Code\\html2\\vendor\\symfony\\polyfill-iconv\\Resources\\charset\\from.cp1026.php\n",
      "Can't read C:\\xampp\\htdocs\\glob\\Code\\html2\\vendor\\symfony\\polyfill-iconv\\Resources\\charset\\from.cp424.php\n",
      "Can't read C:\\xampp\\htdocs\\glob\\Code\\html2\\vendor\\symfony\\polyfill-iconv\\Resources\\charset\\from.cp437.php\n",
      "Can't read C:\\xampp\\htdocs\\glob\\Code\\html2\\vendor\\symfony\\polyfill-iconv\\Resources\\charset\\from.cp500.php\n",
      "Can't read C:\\xampp\\htdocs\\glob\\Code\\html2\\vendor\\symfony\\polyfill-iconv\\Resources\\charset\\from.cp737.php\n",
      "Can't read C:\\xampp\\htdocs\\glob\\Code\\html2\\vendor\\symfony\\polyfill-iconv\\Resources\\charset\\from.cp775.php\n",
      "Can't read C:\\xampp\\htdocs\\glob\\Code\\html2\\vendor\\symfony\\polyfill-iconv\\Resources\\charset\\from.cp850.php\n",
      "Can't read C:\\xampp\\htdocs\\glob\\Code\\html2\\vendor\\symfony\\polyfill-iconv\\Resources\\charset\\from.cp852.php\n",
      "Can't read C:\\xampp\\htdocs\\glob\\Code\\html2\\vendor\\symfony\\polyfill-iconv\\Resources\\charset\\from.cp855.php\n",
      "Can't read C:\\xampp\\htdocs\\glob\\Code\\html2\\vendor\\symfony\\polyfill-iconv\\Resources\\charset\\from.cp856.php\n",
      "Can't read C:\\xampp\\htdocs\\glob\\Code\\html2\\vendor\\symfony\\polyfill-iconv\\Resources\\charset\\from.cp857.php\n",
      "Can't read C:\\xampp\\htdocs\\glob\\Code\\html2\\vendor\\symfony\\polyfill-iconv\\Resources\\charset\\from.cp860.php\n",
      "Can't read C:\\xampp\\htdocs\\glob\\Code\\html2\\vendor\\symfony\\polyfill-iconv\\Resources\\charset\\from.cp861.php\n",
      "Can't read C:\\xampp\\htdocs\\glob\\Code\\html2\\vendor\\symfony\\polyfill-iconv\\Resources\\charset\\from.cp862.php\n",
      "Can't read C:\\xampp\\htdocs\\glob\\Code\\html2\\vendor\\symfony\\polyfill-iconv\\Resources\\charset\\from.cp863.php\n",
      "Can't read C:\\xampp\\htdocs\\glob\\Code\\html2\\vendor\\symfony\\polyfill-iconv\\Resources\\charset\\from.cp864.php\n",
      "Can't read C:\\xampp\\htdocs\\glob\\Code\\html2\\vendor\\symfony\\polyfill-iconv\\Resources\\charset\\from.cp865.php\n",
      "Can't read C:\\xampp\\htdocs\\glob\\Code\\html2\\vendor\\symfony\\polyfill-iconv\\Resources\\charset\\from.cp866.php\n",
      "Can't read C:\\xampp\\htdocs\\glob\\Code\\html2\\vendor\\symfony\\polyfill-iconv\\Resources\\charset\\from.cp869.php\n",
      "Can't read C:\\xampp\\htdocs\\glob\\Code\\html2\\vendor\\symfony\\polyfill-iconv\\Resources\\charset\\from.cp874.php\n",
      "Can't read C:\\xampp\\htdocs\\glob\\Code\\html2\\vendor\\symfony\\polyfill-iconv\\Resources\\charset\\from.cp875.php\n",
      "Can't read C:\\xampp\\htdocs\\glob\\Code\\html2\\vendor\\symfony\\polyfill-iconv\\Resources\\charset\\from.cp932.php\n",
      "Can't read C:\\xampp\\htdocs\\glob\\Code\\html2\\vendor\\symfony\\polyfill-iconv\\Resources\\charset\\from.cp936.php\n",
      "Can't read C:\\xampp\\htdocs\\glob\\Code\\html2\\vendor\\symfony\\polyfill-iconv\\Resources\\charset\\from.cp949.php\n",
      "Can't read C:\\xampp\\htdocs\\glob\\Code\\html2\\vendor\\symfony\\polyfill-iconv\\Resources\\charset\\from.cp950.php\n",
      "Can't read C:\\xampp\\htdocs\\glob\\Code\\html2\\vendor\\symfony\\polyfill-iconv\\Resources\\charset\\from.iso-8859-1.php\n",
      "Can't read C:\\xampp\\htdocs\\glob\\Code\\html2\\vendor\\symfony\\polyfill-iconv\\Resources\\charset\\from.iso-8859-10.php\n",
      "Can't read C:\\xampp\\htdocs\\glob\\Code\\html2\\vendor\\symfony\\polyfill-iconv\\Resources\\charset\\from.iso-8859-11.php\n",
      "Can't read C:\\xampp\\htdocs\\glob\\Code\\html2\\vendor\\symfony\\polyfill-iconv\\Resources\\charset\\from.iso-8859-13.php\n",
      "Can't read C:\\xampp\\htdocs\\glob\\Code\\html2\\vendor\\symfony\\polyfill-iconv\\Resources\\charset\\from.iso-8859-14.php\n",
      "Can't read C:\\xampp\\htdocs\\glob\\Code\\html2\\vendor\\symfony\\polyfill-iconv\\Resources\\charset\\from.iso-8859-15.php\n",
      "Can't read C:\\xampp\\htdocs\\glob\\Code\\html2\\vendor\\symfony\\polyfill-iconv\\Resources\\charset\\from.iso-8859-16.php\n",
      "Can't read C:\\xampp\\htdocs\\glob\\Code\\html2\\vendor\\symfony\\polyfill-iconv\\Resources\\charset\\from.iso-8859-2.php\n",
      "Can't read C:\\xampp\\htdocs\\glob\\Code\\html2\\vendor\\symfony\\polyfill-iconv\\Resources\\charset\\from.iso-8859-3.php\n",
      "Can't read C:\\xampp\\htdocs\\glob\\Code\\html2\\vendor\\symfony\\polyfill-iconv\\Resources\\charset\\from.iso-8859-4.php\n",
      "Can't read C:\\xampp\\htdocs\\glob\\Code\\html2\\vendor\\symfony\\polyfill-iconv\\Resources\\charset\\from.iso-8859-5.php\n",
      "Can't read C:\\xampp\\htdocs\\glob\\Code\\html2\\vendor\\symfony\\polyfill-iconv\\Resources\\charset\\from.iso-8859-6.php\n",
      "Can't read C:\\xampp\\htdocs\\glob\\Code\\html2\\vendor\\symfony\\polyfill-iconv\\Resources\\charset\\from.iso-8859-7.php\n",
      "Can't read C:\\xampp\\htdocs\\glob\\Code\\html2\\vendor\\symfony\\polyfill-iconv\\Resources\\charset\\from.iso-8859-8.php\n",
      "Can't read C:\\xampp\\htdocs\\glob\\Code\\html2\\vendor\\symfony\\polyfill-iconv\\Resources\\charset\\from.iso-8859-9.php\n",
      "Can't read C:\\xampp\\htdocs\\glob\\Code\\html2\\vendor\\symfony\\polyfill-iconv\\Resources\\charset\\from.koi8-r.php\n",
      "Can't read C:\\xampp\\htdocs\\glob\\Code\\html2\\vendor\\symfony\\polyfill-iconv\\Resources\\charset\\from.koi8-u.php\n",
      "Can't read C:\\xampp\\htdocs\\glob\\Code\\html2\\vendor\\symfony\\polyfill-iconv\\Resources\\charset\\from.windows-1250.php\n",
      "Can't read C:\\xampp\\htdocs\\glob\\Code\\html2\\vendor\\symfony\\polyfill-iconv\\Resources\\charset\\from.windows-1251.php\n",
      "Can't read C:\\xampp\\htdocs\\glob\\Code\\html2\\vendor\\symfony\\polyfill-iconv\\Resources\\charset\\from.windows-1252.php\n",
      "Can't read C:\\xampp\\htdocs\\glob\\Code\\html2\\vendor\\symfony\\polyfill-iconv\\Resources\\charset\\from.windows-1253.php\n",
      "Can't read C:\\xampp\\htdocs\\glob\\Code\\html2\\vendor\\symfony\\polyfill-iconv\\Resources\\charset\\from.windows-1254.php\n",
      "Can't read C:\\xampp\\htdocs\\glob\\Code\\html2\\vendor\\symfony\\polyfill-iconv\\Resources\\charset\\from.windows-1255.php\n",
      "Can't read C:\\xampp\\htdocs\\glob\\Code\\html2\\vendor\\symfony\\polyfill-iconv\\Resources\\charset\\from.windows-1256.php\n",
      "Can't read C:\\xampp\\htdocs\\glob\\Code\\html2\\vendor\\symfony\\polyfill-iconv\\Resources\\charset\\from.windows-1257.php\n",
      "Can't read C:\\xampp\\htdocs\\glob\\Code\\html2\\vendor\\symfony\\polyfill-iconv\\Resources\\charset\\from.windows-1258.php\n",
      "Can't read C:\\xampp\\htdocs\\glob\\Code\\html2\\vendor\\symfony\\polyfill-iconv\\Resources\\charset\\translit.php\n",
      "Can't read C:\\xampp\\htdocs\\glob\\Code\\html2\\vendor\\symfony\\polyfill-intl-grapheme\\Grapheme.php\n",
      "Can't read C:\\xampp\\htdocs\\glob\\Code\\html2\\vendor\\symfony\\polyfill-intl-idn\\Resources\\unidata\\disallowed_STD3_mapped.php\n",
      "Can't read C:\\xampp\\htdocs\\glob\\Code\\html2\\vendor\\symfony\\polyfill-intl-idn\\Resources\\unidata\\mapped.php\n",
      "Can't read C:\\xampp\\htdocs\\glob\\Code\\html2\\vendor\\symfony\\polyfill-intl-normalizer\\Resources\\unidata\\canonicalComposition.php\n",
      "Can't read C:\\xampp\\htdocs\\glob\\Code\\html2\\vendor\\symfony\\polyfill-intl-normalizer\\Resources\\unidata\\canonicalDecomposition.php\n",
      "Can't read C:\\xampp\\htdocs\\glob\\Code\\html2\\vendor\\symfony\\polyfill-intl-normalizer\\Resources\\unidata\\combiningClass.php\n",
      "Can't read C:\\xampp\\htdocs\\glob\\Code\\html2\\vendor\\symfony\\polyfill-intl-normalizer\\Resources\\unidata\\compatibilityDecomposition.php\n",
      "Can't read C:\\xampp\\htdocs\\glob\\Code\\html2\\vendor\\symfony\\polyfill-mbstring\\Mbstring.php\n",
      "Can't read C:\\xampp\\htdocs\\glob\\Code\\html2\\vendor\\symfony\\polyfill-mbstring\\Resources\\unidata\\lowerCase.php\n",
      "Can't read C:\\xampp\\htdocs\\glob\\Code\\html2\\vendor\\symfony\\polyfill-mbstring\\Resources\\unidata\\upperCase.php\n",
      "Can't read C:\\xampp\\htdocs\\glob\\Code\\html2\\vendor\\symfony\\string\\AbstractUnicodeString.php\n",
      "Can't read C:\\xampp\\htdocs\\glob\\Code\\html2\\vendor\\symfony\\translation\\PseudoLocalizationTranslator.php\n",
      "Can't read C:\\xampp\\htdocs\\glob\\Code\\html2\\vendor\\voku\\portable-ascii\\src\\voku\\helper\\ASCII.php\n",
      "Can't read C:\\xampp\\htdocs\\glob\\Code\\html2\\vendor\\voku\\portable-ascii\\src\\voku\\helper\\data\\ascii_by_languages.php\n",
      "Can't read C:\\xampp\\htdocs\\glob\\Code\\html2\\vendor\\voku\\portable-ascii\\src\\voku\\helper\\data\\ascii_extras_by_languages.php\n"
     ]
    }
   ],
   "source": [
    "external_links_results = search_project_files_for_external_links(project_path)"
   ]
  },
  {
   "cell_type": "code",
   "execution_count": 45,
   "id": "86b01378-1b09-48f3-b68d-f97880235738",
   "metadata": {
    "tags": []
   },
   "outputs": [
    {
     "data": {
      "text/html": [
       "<div>\n",
       "<style scoped>\n",
       "    .dataframe tbody tr th:only-of-type {\n",
       "        vertical-align: middle;\n",
       "    }\n",
       "\n",
       "    .dataframe tbody tr th {\n",
       "        vertical-align: top;\n",
       "    }\n",
       "\n",
       "    .dataframe thead th {\n",
       "        text-align: right;\n",
       "    }\n",
       "</style>\n",
       "<table border=\"1\" class=\"dataframe\">\n",
       "  <thead>\n",
       "    <tr style=\"text-align: right;\">\n",
       "      <th></th>\n",
       "      <th>Domain</th>\n",
       "      <th>External Link</th>\n",
       "      <th>File Name</th>\n",
       "      <th>File Parent Folder</th>\n",
       "      <th>File Path</th>\n",
       "    </tr>\n",
       "  </thead>\n",
       "  <tbody>\n",
       "    <tr>\n",
       "      <th>0</th>\n",
       "      <td>cdnjs.cloudflare.com</td>\n",
       "      <td>https://cdnjs.cloudflare.com/ajax/libs/intl-te...</td>\n",
       "      <td>index.blade.php</td>\n",
       "      <td>shop</td>\n",
       "      <td>C:\\xampp\\htdocs\\glob\\Code\\html2\\packages\\RKREZ...</td>\n",
       "    </tr>\n",
       "    <tr>\n",
       "      <th>1</th>\n",
       "      <td>cdnjs.cloudflare.com</td>\n",
       "      <td>https://cdnjs.cloudflare.com/ajax/libs/intl-te...</td>\n",
       "      <td>index.blade.php</td>\n",
       "      <td>shop</td>\n",
       "      <td>C:\\xampp\\htdocs\\glob\\Code\\html2\\packages\\RKREZ...</td>\n",
       "    </tr>\n",
       "    <tr>\n",
       "      <th>2</th>\n",
       "      <td>cdnjs.cloudflare.com</td>\n",
       "      <td>https://cdnjs.cloudflare.com/ajax/libs/intl-te...</td>\n",
       "      <td>index.blade.php</td>\n",
       "      <td>shop</td>\n",
       "      <td>C:\\xampp\\htdocs\\glob\\Code\\html2\\packages\\RKREZ...</td>\n",
       "    </tr>\n",
       "    <tr>\n",
       "      <th>3</th>\n",
       "      <td>cdnjs.cloudflare.com</td>\n",
       "      <td>https://cdnjs.cloudflare.com/ajax/libs/font-aw...</td>\n",
       "      <td>edit.blade.php</td>\n",
       "      <td>account</td>\n",
       "      <td>C:\\xampp\\htdocs\\glob\\Code\\html2\\packages\\Webku...</td>\n",
       "    </tr>\n",
       "    <tr>\n",
       "      <th>4</th>\n",
       "      <td>cdnjs.cloudflare.com</td>\n",
       "      <td>https://cdnjs.cloudflare.com/ajax/libs/intl-te...</td>\n",
       "      <td>create.blade.php</td>\n",
       "      <td>customers</td>\n",
       "      <td>C:\\xampp\\htdocs\\glob\\Code\\html2\\packages\\Webku...</td>\n",
       "    </tr>\n",
       "  </tbody>\n",
       "</table>\n",
       "</div>"
      ],
      "text/plain": [
       "                 Domain                                      External Link  \\\n",
       "0  cdnjs.cloudflare.com  https://cdnjs.cloudflare.com/ajax/libs/intl-te...   \n",
       "1  cdnjs.cloudflare.com  https://cdnjs.cloudflare.com/ajax/libs/intl-te...   \n",
       "2  cdnjs.cloudflare.com  https://cdnjs.cloudflare.com/ajax/libs/intl-te...   \n",
       "3  cdnjs.cloudflare.com  https://cdnjs.cloudflare.com/ajax/libs/font-aw...   \n",
       "4  cdnjs.cloudflare.com  https://cdnjs.cloudflare.com/ajax/libs/intl-te...   \n",
       "\n",
       "          File Name File Parent Folder  \\\n",
       "0   index.blade.php               shop   \n",
       "1   index.blade.php               shop   \n",
       "2   index.blade.php               shop   \n",
       "3    edit.blade.php            account   \n",
       "4  create.blade.php          customers   \n",
       "\n",
       "                                           File Path  \n",
       "0  C:\\xampp\\htdocs\\glob\\Code\\html2\\packages\\RKREZ...  \n",
       "1  C:\\xampp\\htdocs\\glob\\Code\\html2\\packages\\RKREZ...  \n",
       "2  C:\\xampp\\htdocs\\glob\\Code\\html2\\packages\\RKREZ...  \n",
       "3  C:\\xampp\\htdocs\\glob\\Code\\html2\\packages\\Webku...  \n",
       "4  C:\\xampp\\htdocs\\glob\\Code\\html2\\packages\\Webku...  "
      ]
     },
     "execution_count": 45,
     "metadata": {},
     "output_type": "execute_result"
    }
   ],
   "source": [
    "df = pd.DataFrame(data=external_links_results, \n",
    "                  columns=['Domain', 'External Link', 'File Name', 'File Parent Folder', 'File Path'])\n",
    "df.head()"
   ]
  },
  {
   "cell_type": "code",
   "execution_count": 46,
   "id": "702e33f6-830c-46d0-85db-86e4c1a32423",
   "metadata": {
    "tags": []
   },
   "outputs": [
    {
     "data": {
      "text/plain": [
       "(229, 5)"
      ]
     },
     "execution_count": 46,
     "metadata": {},
     "output_type": "execute_result"
    }
   ],
   "source": [
    "df.shape"
   ]
  },
  {
   "cell_type": "code",
   "execution_count": 23,
   "id": "4b2c3349-7210-4c78-be38-39365d1ac8cf",
   "metadata": {
    "tags": []
   },
   "outputs": [
    {
     "data": {
      "text/plain": [
       "'2023-06-26'"
      ]
     },
     "execution_count": 23,
     "metadata": {},
     "output_type": "execute_result"
    }
   ],
   "source": [
    "now = datetime.utcnow().strftime('%Y-%m-%d')\n",
    "now"
   ]
  },
  {
   "cell_type": "code",
   "execution_count": 24,
   "id": "12547c32-7751-4738-94ad-255931be7c14",
   "metadata": {
    "tags": []
   },
   "outputs": [],
   "source": [
    "df.to_excel(f\"external-links_{now}.xlsx\", index=False)"
   ]
  },
  {
   "cell_type": "code",
   "execution_count": 25,
   "id": "7dfc3eac-167c-4aea-bf20-5ebd5dd8dd25",
   "metadata": {
    "tags": []
   },
   "outputs": [],
   "source": [
    "df.to_csv(f\"external-links_{now}.csv\", index=False)"
   ]
  },
  {
   "cell_type": "markdown",
   "id": "56a93085-ea61-46a5-97c4-1afa3b6338c9",
   "metadata": {},
   "source": [
    "The Python script provided offers a practical and effective way to search for external links within your project files. However, depending on your specific requirements and preferences, you might consider using specialized tools or libraries that offer more advanced features for analyzing and extracting information from HTML files. Here are a few alternatives worth exploring:\n",
    "\n",
    "1. Beautiful Soup with Requests: You can combine the power of the Beautiful Soup library, which simplifies HTML parsing, with the Requests library for making HTTP requests. This approach allows you to retrieve HTML content directly from URLs and then search for external links using Beautiful Soup's flexible querying capabilities.\n",
    "\n",
    "2. Web scraping frameworks: Frameworks like Scrapy provide a complete solution for web scraping tasks, including parsing HTML and extracting relevant information. With Scrapy, you can define rules and selectors to navigate and extract data from web pages, which could be beneficial if you have more complex requirements beyond finding external links.\n",
    "\n",
    "3. Custom HTML parser: If you have a deep understanding of the HTML structure in your project files and need fine-grained control, you can develop a custom HTML parser using Python's built-in libraries, such as `html.parser`. This approach requires more manual coding but provides flexibility to extract specific elements and attributes based on your project's needs.\n",
    "\n",
    "4. IDE or code editor search functionality: Some integrated development environments (IDEs) or advanced code editors have powerful search functionality that supports regular expressions. You can leverage these features to search for specific patterns (e.g., external link structures) within your project files.\n",
    "\n",
    "Consider the complexity of your project, the volume of files, and the desired level of automation when choosing the approach that best suits your needs. While the Python script provides a good starting point, exploring specialized tools or libraries might provide additional advantages for your specific use case."
   ]
  },
  {
   "cell_type": "markdown",
   "id": "b47f52ec-226a-4327-b7fe-1c5ab80b49aa",
   "metadata": {},
   "source": [
    "Yes, you can run the script on a schedule by utilizing task scheduling tools available on your operating system. Here are the steps to schedule the script to run automatically:\n",
    "\n",
    "1. Determine the operating system: Identify the operating system on which you want to schedule the script. The steps for scheduling tasks may vary depending on the operating system (e.g., Windows, macOS, Linux).\n",
    "\n",
    "2. Choose a task scheduler: Select a task scheduler suitable for your operating system. Here are a few options:\n",
    "\n",
    "   - Windows: Task Scheduler is a built-in task scheduling tool in Windows.\n",
    "   - macOS: Launchd is the default task scheduler for macOS.\n",
    "   - Linux: Cron is a commonly used task scheduler for Linux systems.\n",
    "\n",
    "3. Configure the task scheduler: Once you've chosen a task scheduler, configure it to run your Python script on the desired schedule. The specific steps may vary depending on the task scheduler you're using. Here's a general outline:\n",
    "\n",
    "   - Identify the Python interpreter: Determine the path to the Python interpreter you want to use to run the script. For example, `/usr/bin/python` or `/usr/bin/env python3`.\n",
    "   - Specify the script: Provide the full path to your Python script that you want to schedule.\n",
    "   - Set the schedule: Configure the task scheduler to run the script at the desired frequency (e.g., daily, weekly) and specify the time or interval.\n",
    "\n",
    "4. Test the scheduled task: After setting up the task scheduler, test it to ensure that the script runs as expected at the scheduled time. Verify that the script executes without errors and that the results are generated as desired.\n",
    "\n",
    "By scheduling the script, you can automate the process of searching for external links in your project files, allowing it to run at regular intervals without manual intervention. This can be particularly useful if you want to periodically monitor and update the list of external links in your project."
   ]
  },
  {
   "cell_type": "code",
   "execution_count": null,
   "id": "bd09f32a-67b7-45d4-87f8-247c31be7700",
   "metadata": {},
   "outputs": [],
   "source": []
  }
 ],
 "metadata": {
  "kernelspec": {
   "display_name": "Python 3 (ipykernel)",
   "language": "python",
   "name": "python3"
  },
  "language_info": {
   "codemirror_mode": {
    "name": "ipython",
    "version": 3
   },
   "file_extension": ".py",
   "mimetype": "text/x-python",
   "name": "python",
   "nbconvert_exporter": "python",
   "pygments_lexer": "ipython3",
   "version": "3.8.13"
  },
  "widgets": {
   "application/vnd.jupyter.widget-state+json": {
    "state": {
     "02c2d034dd8d4a0893149b7864f1a1ca": {
      "model_module": "@jupyter-widgets/controls",
      "model_module_version": "2.0.0",
      "model_name": "HTMLModel",
      "state": {
       "layout": "IPY_MODEL_2d302dc8e8994cb599e213e6c7f96383",
       "style": "IPY_MODEL_27f90acc3eb846ae977cd5447aa2f0d5"
      }
     },
     "030c02fb441940bbabe0af385213ab96": {
      "model_module": "@jupyter-widgets/controls",
      "model_module_version": "2.0.0",
      "model_name": "HBoxModel",
      "state": {
       "children": [
        "IPY_MODEL_fd562598cb6d41458cdfb3b7f736ac56",
        "IPY_MODEL_454bd645a4fc4eeabd8ec732cc3c1777",
        "IPY_MODEL_5727dc92772d4b76918fb100b5feb13c"
       ],
       "layout": "IPY_MODEL_7a9b71be9dbe44a3a567cbc70a172268"
      }
     },
     "0ab26e6a98b64b87aadda1603e0e538e": {
      "model_module": "@jupyter-widgets/controls",
      "model_module_version": "2.0.0",
      "model_name": "HTMLStyleModel",
      "state": {
       "description_width": "",
       "font_size": null,
       "text_color": null
      }
     },
     "16804c195f3642ca854fceac536f3016": {
      "model_module": "@jupyter-widgets/base",
      "model_module_version": "2.0.0",
      "model_name": "LayoutModel",
      "state": {
       "width": "20px"
      }
     },
     "18e50685c03e43fd906c996eeaa6c596": {
      "model_module": "@jupyter-widgets/controls",
      "model_module_version": "2.0.0",
      "model_name": "HTMLModel",
      "state": {
       "layout": "IPY_MODEL_a3f3ae40f6d044c893317f9240491fa8",
       "style": "IPY_MODEL_50d4e9f9dc1e461993aa387d3e29bd12",
       "value": " 0/4163433 [00:00&lt;?, ?it/s]"
      }
     },
     "27bf772611374fe5b2fda1a9293141de": {
      "model_module": "@jupyter-widgets/controls",
      "model_module_version": "2.0.0",
      "model_name": "ProgressStyleModel",
      "state": {
       "bar_color": "green",
       "description_width": ""
      }
     },
     "27f90acc3eb846ae977cd5447aa2f0d5": {
      "model_module": "@jupyter-widgets/controls",
      "model_module_version": "2.0.0",
      "model_name": "HTMLStyleModel",
      "state": {
       "description_width": "",
       "font_size": null,
       "text_color": null
      }
     },
     "2b40f2c67aca44d1ab8d5a575f058080": {
      "model_module": "@jupyter-widgets/controls",
      "model_module_version": "2.0.0",
      "model_name": "HTMLModel",
      "state": {
       "layout": "IPY_MODEL_3ffe74cc62fa460183c9f0d41102ba20",
       "style": "IPY_MODEL_d35fe55f27e2404fa977b6cae28cbf51",
       "value": " 69/? [00:00&lt;00:00, 369.02it/s]"
      }
     },
     "2bcde71cf6b84a9cb775bafe5681a96e": {
      "model_module": "@jupyter-widgets/base",
      "model_module_version": "2.0.0",
      "model_name": "LayoutModel",
      "state": {}
     },
     "2d302dc8e8994cb599e213e6c7f96383": {
      "model_module": "@jupyter-widgets/base",
      "model_module_version": "2.0.0",
      "model_name": "LayoutModel",
      "state": {}
     },
     "302fb1ad45d144e9a1edb4fbcfc98a09": {
      "model_module": "@jupyter-widgets/base",
      "model_module_version": "2.0.0",
      "model_name": "LayoutModel",
      "state": {}
     },
     "30f77f8d47aa48b1b8feed87101ba9a8": {
      "model_module": "@jupyter-widgets/controls",
      "model_module_version": "2.0.0",
      "model_name": "FloatProgressModel",
      "state": {
       "bar_style": "success",
       "layout": "IPY_MODEL_16804c195f3642ca854fceac536f3016",
       "max": 1,
       "style": "IPY_MODEL_5a7efb40a8694f5c94911694195d5664",
       "value": 1
      }
     },
     "3d1bfe30889e4b14954128d0dcff7a14": {
      "model_module": "@jupyter-widgets/controls",
      "model_module_version": "2.0.0",
      "model_name": "ProgressStyleModel",
      "state": {
       "description_width": ""
      }
     },
     "3dc21eef503b43289a2c5d2e6da272d5": {
      "model_module": "@jupyter-widgets/controls",
      "model_module_version": "2.0.0",
      "model_name": "HTMLStyleModel",
      "state": {
       "description_width": "",
       "font_size": null,
       "text_color": null
      }
     },
     "3ffe74cc62fa460183c9f0d41102ba20": {
      "model_module": "@jupyter-widgets/base",
      "model_module_version": "2.0.0",
      "model_name": "LayoutModel",
      "state": {}
     },
     "454bd645a4fc4eeabd8ec732cc3c1777": {
      "model_module": "@jupyter-widgets/controls",
      "model_module_version": "2.0.0",
      "model_name": "FloatProgressModel",
      "state": {
       "bar_style": "danger",
       "layout": "IPY_MODEL_7b952f0ac680447bbf0ed4fddf0efb65",
       "max": 1,
       "style": "IPY_MODEL_b2cabe78a78c4716af03c8dce92980f4"
      }
     },
     "4936f81ad322464a808da06fc4763d13": {
      "model_module": "@jupyter-widgets/controls",
      "model_module_version": "2.0.0",
      "model_name": "HTMLModel",
      "state": {
       "layout": "IPY_MODEL_b33b936ddddc45498a976314f4445498",
       "style": "IPY_MODEL_880243acc13f4346b46cd76583de6bc7",
       "value": "  4%"
      }
     },
     "4996cc03fd97440981e99e74fd9c7033": {
      "model_module": "@jupyter-widgets/base",
      "model_module_version": "2.0.0",
      "model_name": "LayoutModel",
      "state": {}
     },
     "50d4e9f9dc1e461993aa387d3e29bd12": {
      "model_module": "@jupyter-widgets/controls",
      "model_module_version": "2.0.0",
      "model_name": "HTMLStyleModel",
      "state": {
       "description_width": "",
       "font_size": null,
       "text_color": null
      }
     },
     "51aa1abf13d64289b10561b467d41aae": {
      "model_module": "@jupyter-widgets/base",
      "model_module_version": "2.0.0",
      "model_name": "LayoutModel",
      "state": {}
     },
     "54a6cbbf32ce44a5afe5091e203bb1e2": {
      "model_module": "@jupyter-widgets/base",
      "model_module_version": "2.0.0",
      "model_name": "LayoutModel",
      "state": {}
     },
     "5727dc92772d4b76918fb100b5feb13c": {
      "model_module": "@jupyter-widgets/controls",
      "model_module_version": "2.0.0",
      "model_name": "HTMLModel",
      "state": {
       "layout": "IPY_MODEL_302fb1ad45d144e9a1edb4fbcfc98a09",
       "style": "IPY_MODEL_3dc21eef503b43289a2c5d2e6da272d5",
       "value": " 0/? [00:00&lt;?, ?it/s]"
      }
     },
     "57461b7a0ba140df9f9f607dff3eb387": {
      "model_module": "@jupyter-widgets/controls",
      "model_module_version": "2.0.0",
      "model_name": "FloatProgressModel",
      "state": {
       "bar_style": "success",
       "layout": "IPY_MODEL_f7421d20c55948108ef84a9970a48250",
       "max": 1,
       "style": "IPY_MODEL_3d1bfe30889e4b14954128d0dcff7a14",
       "value": 1
      }
     },
     "5986ebfc5c464cbbbe8bee43b5922bc0": {
      "model_module": "@jupyter-widgets/controls",
      "model_module_version": "2.0.0",
      "model_name": "HBoxModel",
      "state": {
       "children": [
        "IPY_MODEL_4936f81ad322464a808da06fc4763d13",
        "IPY_MODEL_68ed771a853c4c2b9c0699d8967a8164",
        "IPY_MODEL_9ee9f11b48724de983a2742b44c2b992"
       ],
       "layout": "IPY_MODEL_c3d49a1d4e754fbeb3315c730f229a32"
      }
     },
     "5a7efb40a8694f5c94911694195d5664": {
      "model_module": "@jupyter-widgets/controls",
      "model_module_version": "2.0.0",
      "model_name": "ProgressStyleModel",
      "state": {
       "description_width": ""
      }
     },
     "676d842994994ff79e300e6dcbadad13": {
      "model_module": "@jupyter-widgets/controls",
      "model_module_version": "2.0.0",
      "model_name": "FloatProgressModel",
      "state": {
       "layout": "IPY_MODEL_4996cc03fd97440981e99e74fd9c7033",
       "max": 4163433,
       "style": "IPY_MODEL_d59fe4114cc5471fbf3d3090982580f4"
      }
     },
     "68ed771a853c4c2b9c0699d8967a8164": {
      "model_module": "@jupyter-widgets/controls",
      "model_module_version": "2.0.0",
      "model_name": "FloatProgressModel",
      "state": {
       "bar_style": "danger",
       "layout": "IPY_MODEL_b73465c3accc42d78e281111fa4816d6",
       "max": 323773,
       "style": "IPY_MODEL_27bf772611374fe5b2fda1a9293141de",
       "value": 17026
      }
     },
     "6d4104a359c54ae18998233229de0851": {
      "model_module": "@jupyter-widgets/base",
      "model_module_version": "2.0.0",
      "model_name": "LayoutModel",
      "state": {}
     },
     "7a9b71be9dbe44a3a567cbc70a172268": {
      "model_module": "@jupyter-widgets/base",
      "model_module_version": "2.0.0",
      "model_name": "LayoutModel",
      "state": {}
     },
     "7b952f0ac680447bbf0ed4fddf0efb65": {
      "model_module": "@jupyter-widgets/base",
      "model_module_version": "2.0.0",
      "model_name": "LayoutModel",
      "state": {
       "width": "20px"
      }
     },
     "7e89ec831fad43e3bb6df1bfe11796a1": {
      "model_module": "@jupyter-widgets/controls",
      "model_module_version": "2.0.0",
      "model_name": "HTMLStyleModel",
      "state": {
       "description_width": "",
       "font_size": null,
       "text_color": null
      }
     },
     "7f079dc0c0b843d69b6b39b5c9484051": {
      "model_module": "@jupyter-widgets/base",
      "model_module_version": "2.0.0",
      "model_name": "LayoutModel",
      "state": {}
     },
     "880243acc13f4346b46cd76583de6bc7": {
      "model_module": "@jupyter-widgets/controls",
      "model_module_version": "2.0.0",
      "model_name": "HTMLStyleModel",
      "state": {
       "description_width": "",
       "font_size": null,
       "text_color": null
      }
     },
     "8c51dbc8de344f1cb2ed93faf7ed741d": {
      "model_module": "@jupyter-widgets/controls",
      "model_module_version": "2.0.0",
      "model_name": "HBoxModel",
      "state": {
       "children": [
        "IPY_MODEL_d1701419a2ca4f6e9221f81f214a4663",
        "IPY_MODEL_57461b7a0ba140df9f9f607dff3eb387",
        "IPY_MODEL_f7b0027a56bc43ff95095060cc5e35c1"
       ],
       "layout": "IPY_MODEL_e07e2c63eac3481ab96af7ed8cbfa6e4"
      }
     },
     "98de1b891cda4b4f89dd3340fa952a32": {
      "model_module": "@jupyter-widgets/controls",
      "model_module_version": "2.0.0",
      "model_name": "HTMLStyleModel",
      "state": {
       "description_width": "",
       "font_size": null,
       "text_color": null
      }
     },
     "9ee9f11b48724de983a2742b44c2b992": {
      "model_module": "@jupyter-widgets/controls",
      "model_module_version": "2.0.0",
      "model_name": "HTMLModel",
      "state": {
       "layout": "IPY_MODEL_6d4104a359c54ae18998233229de0851",
       "style": "IPY_MODEL_f087562e4e5d4bdf91bc110291be2ec2",
       "value": " 17026/323773 [00:32&lt;08:18, 614.76it/s]"
      }
     },
     "9ff98ce0c9744ba1876cea727dc7566a": {
      "model_module": "@jupyter-widgets/base",
      "model_module_version": "2.0.0",
      "model_name": "LayoutModel",
      "state": {}
     },
     "a3f3ae40f6d044c893317f9240491fa8": {
      "model_module": "@jupyter-widgets/base",
      "model_module_version": "2.0.0",
      "model_name": "LayoutModel",
      "state": {}
     },
     "b2cabe78a78c4716af03c8dce92980f4": {
      "model_module": "@jupyter-widgets/controls",
      "model_module_version": "2.0.0",
      "model_name": "ProgressStyleModel",
      "state": {
       "description_width": ""
      }
     },
     "b33b936ddddc45498a976314f4445498": {
      "model_module": "@jupyter-widgets/base",
      "model_module_version": "2.0.0",
      "model_name": "LayoutModel",
      "state": {}
     },
     "b73465c3accc42d78e281111fa4816d6": {
      "model_module": "@jupyter-widgets/base",
      "model_module_version": "2.0.0",
      "model_name": "LayoutModel",
      "state": {}
     },
     "b93f41ff6c7840a3ac5d44cb7f2cb310": {
      "model_module": "@jupyter-widgets/controls",
      "model_module_version": "2.0.0",
      "model_name": "HTMLModel",
      "state": {
       "layout": "IPY_MODEL_51aa1abf13d64289b10561b467d41aae",
       "style": "IPY_MODEL_ef149bfd8d934757b7fb91fad24821ef",
       "value": "  0%"
      }
     },
     "bece9df31b804e2c8af059aa0a843b33": {
      "model_module": "@jupyter-widgets/base",
      "model_module_version": "2.0.0",
      "model_name": "LayoutModel",
      "state": {}
     },
     "c3d49a1d4e754fbeb3315c730f229a32": {
      "model_module": "@jupyter-widgets/base",
      "model_module_version": "2.0.0",
      "model_name": "LayoutModel",
      "state": {}
     },
     "d1701419a2ca4f6e9221f81f214a4663": {
      "model_module": "@jupyter-widgets/controls",
      "model_module_version": "2.0.0",
      "model_name": "HTMLModel",
      "state": {
       "layout": "IPY_MODEL_9ff98ce0c9744ba1876cea727dc7566a",
       "style": "IPY_MODEL_7e89ec831fad43e3bb6df1bfe11796a1"
      }
     },
     "d35fe55f27e2404fa977b6cae28cbf51": {
      "model_module": "@jupyter-widgets/controls",
      "model_module_version": "2.0.0",
      "model_name": "HTMLStyleModel",
      "state": {
       "description_width": "",
       "font_size": null,
       "text_color": null
      }
     },
     "d59fe4114cc5471fbf3d3090982580f4": {
      "model_module": "@jupyter-widgets/controls",
      "model_module_version": "2.0.0",
      "model_name": "ProgressStyleModel",
      "state": {
       "bar_color": "green",
       "description_width": ""
      }
     },
     "e07e2c63eac3481ab96af7ed8cbfa6e4": {
      "model_module": "@jupyter-widgets/base",
      "model_module_version": "2.0.0",
      "model_name": "LayoutModel",
      "state": {}
     },
     "ef149bfd8d934757b7fb91fad24821ef": {
      "model_module": "@jupyter-widgets/controls",
      "model_module_version": "2.0.0",
      "model_name": "HTMLStyleModel",
      "state": {
       "description_width": "",
       "font_size": null,
       "text_color": null
      }
     },
     "f087562e4e5d4bdf91bc110291be2ec2": {
      "model_module": "@jupyter-widgets/controls",
      "model_module_version": "2.0.0",
      "model_name": "HTMLStyleModel",
      "state": {
       "description_width": "",
       "font_size": null,
       "text_color": null
      }
     },
     "f472cc47ee4b41d28bf7f0901f44221e": {
      "model_module": "@jupyter-widgets/controls",
      "model_module_version": "2.0.0",
      "model_name": "HBoxModel",
      "state": {
       "children": [
        "IPY_MODEL_b93f41ff6c7840a3ac5d44cb7f2cb310",
        "IPY_MODEL_676d842994994ff79e300e6dcbadad13",
        "IPY_MODEL_18e50685c03e43fd906c996eeaa6c596"
       ],
       "layout": "IPY_MODEL_bece9df31b804e2c8af059aa0a843b33"
      }
     },
     "f7421d20c55948108ef84a9970a48250": {
      "model_module": "@jupyter-widgets/base",
      "model_module_version": "2.0.0",
      "model_name": "LayoutModel",
      "state": {
       "width": "20px"
      }
     },
     "f7b0027a56bc43ff95095060cc5e35c1": {
      "model_module": "@jupyter-widgets/controls",
      "model_module_version": "2.0.0",
      "model_name": "HTMLModel",
      "state": {
       "layout": "IPY_MODEL_7f079dc0c0b843d69b6b39b5c9484051",
       "style": "IPY_MODEL_98de1b891cda4b4f89dd3340fa952a32",
       "value": " 12815/? [03:25&lt;00:00,  7.03it/s]"
      }
     },
     "fd562598cb6d41458cdfb3b7f736ac56": {
      "model_module": "@jupyter-widgets/controls",
      "model_module_version": "2.0.0",
      "model_name": "HTMLModel",
      "state": {
       "layout": "IPY_MODEL_2bcde71cf6b84a9cb775bafe5681a96e",
       "style": "IPY_MODEL_0ab26e6a98b64b87aadda1603e0e538e"
      }
     },
     "feb2e44199ce469792cfb0c6ba06df05": {
      "model_module": "@jupyter-widgets/controls",
      "model_module_version": "2.0.0",
      "model_name": "HBoxModel",
      "state": {
       "children": [
        "IPY_MODEL_02c2d034dd8d4a0893149b7864f1a1ca",
        "IPY_MODEL_30f77f8d47aa48b1b8feed87101ba9a8",
        "IPY_MODEL_2b40f2c67aca44d1ab8d5a575f058080"
       ],
       "layout": "IPY_MODEL_54a6cbbf32ce44a5afe5091e203bb1e2"
      }
     }
    },
    "version_major": 2,
    "version_minor": 0
   }
  }
 },
 "nbformat": 4,
 "nbformat_minor": 5
}
